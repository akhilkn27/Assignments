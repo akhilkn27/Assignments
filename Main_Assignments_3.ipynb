{
 "cells": [
  {
   "cell_type": "code",
   "execution_count": 1,
   "id": "ea375759-b756-4cfb-82a3-6dca99c1237f",
   "metadata": {},
   "outputs": [],
   "source": [
    "# 1. Why are functions advantageous to have in your programs?\n",
    "\n",
    "Ans:  \n",
    "Advantages:-\n",
    " - Function can be written once, they can be called many times. \n",
    " - If there is any modification, it can be done in one place. \n",
    " - It reduces the need for duplicate code"
   ]
  },
  {
   "cell_type": "code",
   "execution_count": null,
   "id": "71f1e7df-933c-46c0-a3b5-1c684861f884",
   "metadata": {},
   "outputs": [],
   "source": [
    "# 2. When does the code in a function run: when it's specified or when it's called?\n",
    "\n",
    "Ans: When it's called, the function run"
   ]
  },
  {
   "cell_type": "code",
   "execution_count": null,
   "id": "c3be710a-0b9b-4f8c-ad0f-f0a2eca64b55",
   "metadata": {},
   "outputs": [],
   "source": [
    "# 3. What statement creates a function?\n",
    "\n",
    "Ans: def function_name(parameters): \"\"\"doc string\"\"\" -----function body----- -----function body----- return value"
   ]
  },
  {
   "cell_type": "code",
   "execution_count": null,
   "id": "e48bb817-db35-4e55-8ecb-8b94bc169b7b",
   "metadata": {},
   "outputs": [],
   "source": [
    "# 4. What is the difference between a function and a function call?\n",
    "\n",
    "Ans:\n",
    "- Function : It is procedure to achieve a particular task and produces a result\n",
    "- Function call : Using the function to achive that task."
   ]
  },
  {
   "cell_type": "code",
   "execution_count": null,
   "id": "87cd5a2d-3d30-4f6f-bc8a-bb88ec5b70e3",
   "metadata": {},
   "outputs": [],
   "source": [
    "# 5. How many global scopes are there in a Python program? How many local scopes?\n",
    "\n",
    "Ans:\n",
    "    Global scopes : Only One\n",
    "    Local scope : It is created whenever a function is called."
   ]
  },
  {
   "cell_type": "code",
   "execution_count": null,
   "id": "6dc4766d-8399-45d9-a065-7775027e9aac",
   "metadata": {},
   "outputs": [],
   "source": [
    "# 6. What happens to variables in a local scope when the function call returns?\n",
    "\n",
    "Ans: When a function returns, the local scope variable is destroyed."
   ]
  },
  {
   "cell_type": "code",
   "execution_count": null,
   "id": "d4140599-cfaf-4084-99f3-01c78c57b8a8",
   "metadata": {},
   "outputs": [],
   "source": [
    "# 7. What is the concept of a return value? Is it possible to have a return value in an expression?\n",
    "\n",
    "Ans: \n",
    "     - It is used to end the execution of the function call. \n",
    "     - Yes, it is possible to evaluate expressions using return statement."
   ]
  },
  {
   "cell_type": "code",
   "execution_count": null,
   "id": "55226bbb-ba8f-4704-a8c8-e0f81df72544",
   "metadata": {},
   "outputs": [],
   "source": [
    "# 8. If a function does not have a return statement, what is the return value of a call to that function?\n",
    "\n",
    "Ans: If a function does not have a return statement, the value return is None.  "
   ]
  },
  {
   "cell_type": "code",
   "execution_count": null,
   "id": "06ef53c0-1953-43a0-b7b2-bade74d24458",
   "metadata": {},
   "outputs": [],
   "source": [
    "# 9. How do you make a function variable refer to the global variable?\n",
    "\n",
    "Ans: \n",
    "    - A global statement will force a variable in a function to refer to the global variable. \n",
    "    - If you want to refer to a global variable in a function, you can use the global keyword to declare which variables are global."
   ]
  },
  {
   "cell_type": "code",
   "execution_count": null,
   "id": "0198ebe9-116c-4efa-a40c-75581065d5a8",
   "metadata": {},
   "outputs": [],
   "source": [
    "# 10. What is the data type of None?\n",
    "\n",
    "Ans: Data type of None is NoneType"
   ]
  },
  {
   "cell_type": "code",
   "execution_count": null,
   "id": "250a4c0d-a4f2-49e6-a58f-64d931fc32cb",
   "metadata": {},
   "outputs": [],
   "source": [
    "# 11. What does the sentence import areallyourpetsnamederic do?\n",
    "\n",
    "Ans: It will import a module named areallyourpetsnamederic to Python Library"
   ]
  },
  {
   "cell_type": "code",
   "execution_count": null,
   "id": "2473748a-0db6-4b12-9467-913ae71eac8c",
   "metadata": {},
   "outputs": [],
   "source": [
    "# 12. If you had a bacon() feature in a spam module, what would you call it after importing spam?\n",
    "\n",
    "Ans: This function can be called with spam.bacon()"
   ]
  },
  {
   "cell_type": "code",
   "execution_count": null,
   "id": "1648f72e-7339-474a-9660-a832ce3d59b5",
   "metadata": {},
   "outputs": [],
   "source": [
    "# 13. What can you do to save a programme from crashing if it encounters an error?\n",
    "\n",
    "Ans: Place the line of code that might cause an error in a try clause and use except block to handle the error."
   ]
  },
  {
   "cell_type": "code",
   "execution_count": null,
   "id": "e688809a-9ebf-4304-bd50-69c7106de278",
   "metadata": {},
   "outputs": [],
   "source": [
    "# 14. What is the purpose of the try clause? What is the purpose of the except clause?\n",
    "\n",
    "Ans: The code that could potentially cause an error goes in the try clause. The code that executes if an error happens goes in the except clause."
   ]
  }
 ],
 "metadata": {
  "kernelspec": {
   "display_name": "Python 3 (ipykernel)",
   "language": "python",
   "name": "python3"
  },
  "language_info": {
   "codemirror_mode": {
    "name": "ipython",
    "version": 3
   },
   "file_extension": ".py",
   "mimetype": "text/x-python",
   "name": "python",
   "nbconvert_exporter": "python",
   "pygments_lexer": "ipython3",
   "version": "3.10.6"
  }
 },
 "nbformat": 4,
 "nbformat_minor": 5
}
