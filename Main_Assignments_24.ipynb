{
 "cells": [
  {
   "cell_type": "code",
   "execution_count": null,
   "id": "7f1080ae-6adc-4073-82ec-66e6f653ba3f",
   "metadata": {},
   "outputs": [],
   "source": [
    "# 1. What is the relationship between def statements and lambda expressions ?"
   ]
  },
  {
   "cell_type": "code",
   "execution_count": null,
   "id": "2a627bbe-260b-4431-829b-5d0c63232264",
   "metadata": {},
   "outputs": [],
   "source": [
    "def statement is used to create a normal function. where as lamba expressions are used to create Anonymous functions. \n",
    "which can be assigned to a variable and can be called using the variable later in function.\n",
    "\n",
    "Lambda's body is a single expression and not a block of statements like def statement. The lambda expression's body is similar to what we'd put in a def body's return statement. \n",
    "We simply type the result as an expression instead of explicitly returning it. Because it is limited to an expression, a lambda is less general than a def statement."
   ]
  },
  {
   "cell_type": "code",
   "execution_count": null,
   "id": "29160e11-2763-4bf7-aed7-08f538d02a5c",
   "metadata": {},
   "outputs": [],
   "source": [
    "# 2. What is the benefit of lambda?"
   ]
  },
  {
   "cell_type": "code",
   "execution_count": null,
   "id": "e47a3916-7235-461d-a1be-984a35a24ad4",
   "metadata": {},
   "outputs": [],
   "source": [
    "The lambda keyword in Python provides a shortcut for declaring small anonymous functions. Lambda functions behave just like regular functions declared with the def keyword. \n",
    "They can be used whenever function objects are required."
   ]
  },
  {
   "cell_type": "code",
   "execution_count": null,
   "id": "2ed75ebe-07ea-4fc8-b94f-a92989c66c33",
   "metadata": {},
   "outputs": [],
   "source": [
    "# 3. Compare and contrast map, filter, and reduce."
   ]
  },
  {
   "cell_type": "code",
   "execution_count": null,
   "id": "cba33c92-8c2d-4ef1-b3d1-a31c011e5518",
   "metadata": {},
   "outputs": [],
   "source": [
    "1. map(): The map() function is a type of higher-order. This function takes another function as a parameter\n",
    "along with a sequence of iterables and returns an output after applying the function to each iterable present in the sequence. \n",
    "\n",
    "2. filter(): The filter() function is used to create an output list consisting of values for which the function returns true. \n",
    "\n",
    "3. reduce(): The reduce() function, as the name describes, applies a given function to the iterables and returns a single value"
   ]
  },
  {
   "cell_type": "code",
   "execution_count": 2,
   "id": "b66e3d6f-8156-4361-a1c9-3213905d578b",
   "metadata": {},
   "outputs": [
    {
     "name": "stdout",
     "output_type": "stream",
     "text": [
      "Map -> [2, 4, 6, 8]\n",
      "Filter -> [1, 3]\n",
      "Reduce -> 21\n"
     ]
    }
   ],
   "source": [
    "from functools import reduce\n",
    "\n",
    "# map function\n",
    "print('Map ->',list(map(lambda x:x+x, [1,2,3,4])))\n",
    "\n",
    "# fitler function\n",
    "print('Filter ->',list(filter(lambda x:x%2 !=0, [1,2,3,4])))\n",
    "\n",
    "# reduce function\n",
    "print('Reduce ->',reduce(lambda x,y:x+y, [1,2,3,4,5,6]))"
   ]
  },
  {
   "cell_type": "code",
   "execution_count": null,
   "id": "1d9ba24a-f3b4-4315-b012-2f02900ccfb4",
   "metadata": {},
   "outputs": [],
   "source": [
    "# 4. What are function annotations, and how are they used?"
   ]
  },
  {
   "cell_type": "code",
   "execution_count": null,
   "id": "39ef6110-b5f6-4092-9e46-bdb88bacb039",
   "metadata": {},
   "outputs": [],
   "source": [
    "Function annotations are completely optional both for parameters and return value. Function annotations provide a way of associating various parts of a function with arbitrary python expressions at compile time.\n",
    "\n",
    "Syntax of function annotations for simple parameters and for excess parameters respectively:\n",
    "\n",
    "def foobar(a: expression, b: expression = 5):\n",
    "def foobar(args: expression, kwargs: expression):"
   ]
  },
  {
   "cell_type": "code",
   "execution_count": null,
   "id": "d09d6abe-ea32-4c70-ab80-10b212e886cf",
   "metadata": {},
   "outputs": [],
   "source": [
    "# 5. What are recursive functions, and how are they used?"
   ]
  },
  {
   "cell_type": "code",
   "execution_count": null,
   "id": "e46c5d0c-0022-4b43-b865-56d2be230e05",
   "metadata": {},
   "outputs": [],
   "source": [
    " A recursive function is a function that calls itself during its execution. The process may repeat several times, outputting the result and the end of each iteration."
   ]
  },
  {
   "cell_type": "code",
   "execution_count": 5,
   "id": "25341062-29fa-4efb-b4de-6756bc0869c6",
   "metadata": {},
   "outputs": [
    {
     "name": "stdout",
     "output_type": "stream",
     "text": [
      "Recursion Example Results\n",
      "1\n",
      "3\n",
      "6\n",
      "10\n",
      "15\n",
      "21\n"
     ]
    },
    {
     "data": {
      "text/plain": [
       "21"
      ]
     },
     "execution_count": 5,
     "metadata": {},
     "output_type": "execute_result"
    }
   ],
   "source": [
    "def tri_recursion(k):\n",
    "  if(k>0):\n",
    "    result = k+tri_recursion(k-1)\n",
    "    print(result)\n",
    "  else:\n",
    "    result = 0\n",
    "  return result\n",
    "\n",
    "print(\"Recursion Example Results\")\n",
    "tri_recursion(6)"
   ]
  },
  {
   "cell_type": "code",
   "execution_count": null,
   "id": "4106058f-2f03-4576-b5aa-febaa4eb4b78",
   "metadata": {},
   "outputs": [],
   "source": [
    "# 6. What are some general design guidelines for coding functions?"
   ]
  },
  {
   "cell_type": "code",
   "execution_count": null,
   "id": "8d372752-7ff7-4e90-82a7-5a5b9378e24f",
   "metadata": {},
   "outputs": [],
   "source": [
    "- Always use a docstring to explain the functionality of the function\n",
    "- avoid using or limited use of global variables\n",
    "- Proper Identation to increase the code readability\n",
    "- try to follow a naming convention for function names (pascalCase or camelCase) and stick with the same convention throughout the application.\n",
    "- Avoid using digits while choosing a variable name\n",
    "- try to use a name for the function which conveys the purpose of the function\n",
    "- Local variables should be named using camelCase format (ex: localVariable) whereas Global variables names should be using PascalCase (ex:GlobalVariable).\n",
    "- Constant should be represented in allcaps (ex:CONSTANT)."
   ]
  },
  {
   "cell_type": "code",
   "execution_count": null,
   "id": "767786b4-da99-43c8-9944-488a5af8c1c9",
   "metadata": {},
   "outputs": [],
   "source": [
    "# 7. Name three or more ways that functions can communicate results to a caller."
   ]
  },
  {
   "cell_type": "code",
   "execution_count": null,
   "id": "8fbf5a47-e03d-402d-9dcd-b27d1bfb79e1",
   "metadata": {},
   "outputs": [],
   "source": [
    "- print\n",
    "- return\n",
    "- yield"
   ]
  }
 ],
 "metadata": {
  "kernelspec": {
   "display_name": "Python 3 (ipykernel)",
   "language": "python",
   "name": "python3"
  },
  "language_info": {
   "codemirror_mode": {
    "name": "ipython",
    "version": 3
   },
   "file_extension": ".py",
   "mimetype": "text/x-python",
   "name": "python",
   "nbconvert_exporter": "python",
   "pygments_lexer": "ipython3",
   "version": "3.10.6"
  }
 },
 "nbformat": 4,
 "nbformat_minor": 5
}
