{
 "cells": [
  {
   "cell_type": "code",
   "execution_count": 2,
   "id": "50d29d89-b278-4b57-b03b-e0d5216f296e",
   "metadata": {},
   "outputs": [
    {
     "name": "stdout",
     "output_type": "stream",
     "text": [
      "True\n",
      "False\n"
     ]
    }
   ],
   "source": [
    "# 1.What are the two values of the Boolean data type? How do you write them?\n",
    "\n",
    "# Two values of Boolean data types are :- True and False\n",
    "a,b = 10,5\n",
    "print(a > b)\n",
    "print(a < b)"
   ]
  },
  {
   "cell_type": "code",
   "execution_count": 1,
   "id": "0c131711-bba1-43fe-9298-aeb62538abe7",
   "metadata": {},
   "outputs": [
    {
     "name": "stdout",
     "output_type": "stream",
     "text": [
      "The above conditions not satisfied\n"
     ]
    }
   ],
   "source": [
    "# 2. What are the three different types of Boolean operators?\n",
    "\n",
    "# Three values of Boolean data types are :- \n",
    "# and\n",
    "# or\n",
    "# not\n",
    "\n",
    "#Ex:\n",
    "c,d = 25,50\n",
    "if ((c > d) and (c % 2 == 0) or (d % 2 != 0)):\n",
    "    print (\"The Boolean operators examples\")\n",
    "else:\n",
    "    print (\"The above conditions not satisfied\")"
   ]
  },
  {
   "cell_type": "code",
   "execution_count": 3,
   "id": "714fec85-5427-4998-ad8f-18e2fc53fcf8",
   "metadata": {},
   "outputs": [],
   "source": [
    "# 3. Make a list of each Boolean operator's truth tables (i.e. every possible combination of Boolean values for the operator and what it evaluate ).\n",
    "\n",
    "\n",
    "#And\n",
    "# 0 and 0 --> 0\n",
    "# 0 and 1 --> 0\n",
    "# 1 and 0 --> 0\n",
    "# 1 and 1 --> 1\n",
    "\n",
    "#Or\n",
    "# 0 and 0 --> 0\n",
    "# 0 and 1 --> 1\n",
    "# 1 and 0 --> 1\n",
    "# 1 and 1 --> 1\n",
    "\n",
    "#Not\n",
    "# 0 --> 1\n",
    "# 1 --> 0"
   ]
  },
  {
   "cell_type": "code",
   "execution_count": null,
   "id": "2a9cfcd4-1f59-4fcf-bb62-5b3afc560cf9",
   "metadata": {},
   "outputs": [
    {
     "data": {
      "text/plain": [
       "True"
      ]
     },
     "execution_count": 5,
     "metadata": {},
     "output_type": "execute_result"
    }
   ],
   "source": [
    "# 4. What are the values of the following expressions?\n",
    "\n",
    "(5 > 4) and (3 == 5)\n",
    "# False\n",
    "\n",
    "not (5 > 4)\n",
    "# False\n",
    "\n",
    "(5 > 4) or (3 == 5)\n",
    "# True\n",
    "\n",
    "not ((5 > 4) or (3 == 5))\n",
    "# False\n",
    "\n",
    "(True and True) and (True == False)\n",
    "# False\n",
    "\n",
    "(not False) or (not True)\n",
    "# True"
   ]
  },
  {
   "cell_type": "code",
   "execution_count": null,
   "id": "fc7484bb-2366-4a14-a7a5-790d12337e36",
   "metadata": {},
   "outputs": [
    {
     "data": {
      "text/plain": [
       "False"
      ]
     },
     "execution_count": 4,
     "metadata": {},
     "output_type": "execute_result"
    }
   ],
   "source": [
    "not ((5 > 4) or (3 == 5))"
   ]
  },
  {
   "cell_type": "code",
   "execution_count": 28,
   "id": "970e03f2-fa0e-4590-bed4-27a0e9bd66d1",
   "metadata": {},
   "outputs": [
    {
     "data": {
      "text/plain": [
       "False"
      ]
     },
     "execution_count": 28,
     "metadata": {},
     "output_type": "execute_result"
    }
   ],
   "source": [
    "# 5. What are the six comparison operators?\n",
    "\n",
    "k,l = 10,15\n",
    "\n",
    "# == Equal to\n",
    "k == l\n",
    "# False\n",
    "\n",
    "# != Not equal to\n",
    "k != l\n",
    "# True\n",
    "\n",
    "# <  Less than\n",
    "k < l\n",
    "# True\n",
    "\n",
    "# <= Less than or equal to\n",
    "k <= l\n",
    "# True\n",
    "\n",
    "# >  greater than\n",
    "k > l\n",
    "# False\n",
    "\n",
    "# >= greater than or equal to\n",
    "k >= l\n",
    "# False"
   ]
  },
  {
   "cell_type": "code",
   "execution_count": 11,
   "id": "7155047a-7d39-48a8-8733-616974dcfc1c",
   "metadata": {},
   "outputs": [
    {
     "name": "stdin",
     "output_type": "stream",
     "text": [
      "Enter the 1st number 10\n",
      "Enter the 2nd number 754\n"
     ]
    },
    {
     "name": "stdout",
     "output_type": "stream",
     "text": [
      "Both the operators 10 and 754 are different\n"
     ]
    }
   ],
   "source": [
    "# 6. How do you tell the difference between the equal to and assignment operators?Describe a condition and when you would use one.\n",
    "\n",
    "m,n = input(\"Enter the 1st number\"),input(\"Enter the 2nd number\")\n",
    "\n",
    "#Equal operators\n",
    "if m == n:\n",
    "    print(f\"Both the operators {m} and {n} are same\")\n",
    "else:\n",
    "    print(f\"Both the operators {m} and {n} are different\")"
   ]
  },
  {
   "cell_type": "code",
   "execution_count": 12,
   "id": "3217960d-d09b-42d2-9a89-4774129eba17",
   "metadata": {},
   "outputs": [
    {
     "name": "stdin",
     "output_type": "stream",
     "text": [
      "Enter the 1st number 11\n",
      "Enter the 2nd number 17\n"
     ]
    },
    {
     "name": "stdout",
     "output_type": "stream",
     "text": [
      "Value of m:17 and n:17\n"
     ]
    }
   ],
   "source": [
    "m,n = input(\"Enter the 1st number\"),input(\"Enter the 2nd number\")\n",
    "\n",
    "# Assignment operators\n",
    "if m >= n or m <=n :\n",
    "    m = n\n",
    "    print(f\"Value of m:{m} and n:{n}\")"
   ]
  },
  {
   "cell_type": "code",
   "execution_count": 13,
   "id": "9a013936-be56-449a-aa05-b4386098618d",
   "metadata": {},
   "outputs": [
    {
     "name": "stdout",
     "output_type": "stream",
     "text": [
      "ham\n",
      "spam\n",
      "spam\n"
     ]
    }
   ],
   "source": [
    "# 7. Identify the three blocks in this code:\n",
    "spam = 0\n",
    "if spam == 10:\n",
    "    print('eggs')\n",
    "if spam > 5:\n",
    "    print('bacon')\n",
    "else:\n",
    "    print('ham')\n",
    "    print('spam')\n",
    "    print('spam')"
   ]
  },
  {
   "cell_type": "code",
   "execution_count": 24,
   "id": "ebe7d114-3623-406e-9fbc-45279cffe30c",
   "metadata": {},
   "outputs": [],
   "source": [
    "# 8. Write code that prints Hello if 1 is stored in spam, prints Howdy if 2 is stored in spam, and prints Greetings! if anything else is stored in spam.\n",
    "\n",
    "def test(spam):\n",
    "    def test1():\n",
    "        print(\"Hello\")\n",
    "    \n",
    "    def test2():\n",
    "        print(\"Howdy\")\n",
    "    \n",
    "    def test3():\n",
    "        print(\"Greetings!\")\n",
    "    \n",
    "    if spam == 1:\n",
    "        return test1()\n",
    "    elif spam == 2:\n",
    "        return test2()\n",
    "    else:\n",
    "        return test3()"
   ]
  },
  {
   "cell_type": "code",
   "execution_count": 27,
   "id": "85194b4b-7eac-491c-9c5c-61f091bf92f6",
   "metadata": {},
   "outputs": [
    {
     "name": "stdout",
     "output_type": "stream",
     "text": [
      "Greetings!\n"
     ]
    }
   ],
   "source": [
    "test(\"2144\")"
   ]
  },
  {
   "cell_type": "code",
   "execution_count": 11,
   "id": "de675c45-35a2-45ef-8c76-eaf43efd1ba5",
   "metadata": {},
   "outputs": [],
   "source": [
    "# 9.If your programme is stuck in an endless loop, what keys you’ll press?\n",
    "\n",
    "# Ctrl+C to stop a program"
   ]
  },
  {
   "cell_type": "code",
   "execution_count": 12,
   "id": "0fe1b903-311e-477b-9e4d-d4e79505f80d",
   "metadata": {},
   "outputs": [],
   "source": [
    "# 10. How can you tell the difference between break and continue?\n",
    "\n",
    "# Break - It will stops the execution of a current loop or program, as soon as it encounters the Break Statement and goes to next loop or main body\n",
    "# Continue - It will skips the current loop and executes the very next iteration and executes the very next iteration in the loop as soon as it encounters the Continue Statement "
   ]
  },
  {
   "cell_type": "code",
   "execution_count": 28,
   "id": "d057c69c-3cab-4885-90b8-d235bf1b270c",
   "metadata": {},
   "outputs": [
    {
     "name": "stdout",
     "output_type": "stream",
     "text": [
      "0\n",
      "1\n",
      "2\n",
      "3\n",
      "4\n",
      "5\n",
      "6\n",
      "7\n",
      "8\n",
      "9\n"
     ]
    }
   ],
   "source": [
    "# 11. In a for loop, what is the difference between range(10), range(0, 10), and range(0, 10, 1)?\n",
    "\n",
    "for num1 in range(10):\n",
    "    print(num1)\n",
    "# Here the value starts from Default as Zero and continue excluding till 10."
   ]
  },
  {
   "cell_type": "code",
   "execution_count": 32,
   "id": "6522dc29-63cc-4d54-a01d-78011d1e79bc",
   "metadata": {},
   "outputs": [
    {
     "name": "stdout",
     "output_type": "stream",
     "text": [
      "0\n",
      "1\n",
      "2\n",
      "3\n",
      "4\n",
      "5\n",
      "6\n",
      "7\n",
      "8\n",
      "9\n"
     ]
    }
   ],
   "source": [
    "for num2 in range(0,10):\n",
    "    print(num2)\n",
    "# Here the value starts from Zero as mentioned and continue excluding till 10."
   ]
  },
  {
   "cell_type": "code",
   "execution_count": 35,
   "id": "8886ebc9-cc9a-4f01-a52d-f8b14cf96b1a",
   "metadata": {},
   "outputs": [
    {
     "name": "stdout",
     "output_type": "stream",
     "text": [
      "0\n",
      "1\n",
      "2\n",
      "3\n",
      "4\n",
      "5\n",
      "6\n",
      "7\n",
      "8\n",
      "9\n"
     ]
    }
   ],
   "source": [
    "for num3 in range(0, 10, 1):\n",
    "    print(num3)\n",
    "# Here the value starts from Zero as mentioned and continue excluding till 10 with stepcount as 1"
   ]
  },
  {
   "cell_type": "code",
   "execution_count": 36,
   "id": "f75a31c0-06ea-4e62-a17b-f184b988ae46",
   "metadata": {},
   "outputs": [
    {
     "name": "stdout",
     "output_type": "stream",
     "text": [
      "0\n",
      "1\n",
      "2\n",
      "3\n",
      "4\n",
      "5\n",
      "6\n",
      "7\n",
      "8\n",
      "9\n"
     ]
    }
   ],
   "source": [
    "# 12. Write a short program that prints the numbers 1 to 10 using a for loop. Then write an equivalent program that prints the numbers 1 to 10 using a while loop.\n",
    "\n",
    "#Using For Loop\n",
    "for num4 in range(10):\n",
    "    print(num4)"
   ]
  },
  {
   "cell_type": "code",
   "execution_count": 41,
   "id": "e16ad1c4-7c61-4452-9018-98509310255b",
   "metadata": {},
   "outputs": [
    {
     "name": "stdout",
     "output_type": "stream",
     "text": [
      "0\n",
      "1\n",
      "2\n",
      "3\n",
      "4\n",
      "5\n",
      "6\n",
      "7\n",
      "8\n",
      "9\n"
     ]
    }
   ],
   "source": [
    "#Using While Loop    \n",
    "num5 = 0\n",
    "while num5 < 10 :\n",
    "    print(num5)\n",
    "    num5 = num5 + 1"
   ]
  },
  {
   "cell_type": "code",
   "execution_count": 42,
   "id": "47fca34d-9bac-4e7d-a057-398672326110",
   "metadata": {},
   "outputs": [],
   "source": [
    "# 13. If you had a function named bacon() inside a module named spam, how would you call it after importing spam?\n",
    "\n",
    "# spam.bacon()"
   ]
  }
 ],
 "metadata": {
  "kernelspec": {
   "display_name": "Python 3 (ipykernel)",
   "language": "python",
   "name": "python3"
  },
  "language_info": {
   "codemirror_mode": {
    "name": "ipython",
    "version": 3
   },
   "file_extension": ".py",
   "mimetype": "text/x-python",
   "name": "python",
   "nbconvert_exporter": "python",
   "pygments_lexer": "ipython3",
   "version": "3.10.6"
  }
 },
 "nbformat": 4,
 "nbformat_minor": 5
}
