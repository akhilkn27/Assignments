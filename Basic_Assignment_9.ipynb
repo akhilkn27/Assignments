{
 "cells": [
  {
   "cell_type": "code",
   "execution_count": null,
   "id": "da131a01-1835-4be8-982d-2d1091fe7e2b",
   "metadata": {},
   "outputs": [],
   "source": [
    "# 1. To what does a relative path refer?"
   ]
  },
  {
   "cell_type": "code",
   "execution_count": null,
   "id": "80174057-b453-4a1b-8555-cecc84fd18a3",
   "metadata": {},
   "outputs": [],
   "source": [
    "The relative path is the path to some file with respect to your current working directory (PWD).\n",
    "For example: if Absolute path to a file called stuff.txt is: C:/users/admin/docs/stuff.txt If my PWD is C:/users/admin/ , then the relative path to stuff.txt would be: docs/stuff.txt\n",
    "Note: PWD + relative path = absolute path"
   ]
  },
  {
   "cell_type": "code",
   "execution_count": null,
   "id": "3fa2b238-e684-42b9-8363-95d99e66cdcd",
   "metadata": {},
   "outputs": [],
   "source": [
    "# 2.Where does an absolute path start with your Operating System ?"
   ]
  },
  {
   "cell_type": "code",
   "execution_count": null,
   "id": "9a1fe915-330d-4459-9547-153bcf35f7d3",
   "metadata": {},
   "outputs": [],
   "source": [
    " In Linux based systems the absolute path starts with /. Where as in Windows based systems absolute path starts with C:"
   ]
  },
  {
   "cell_type": "code",
   "execution_count": null,
   "id": "fed5de35-322c-4e4f-b3c6-12d9f072b1a5",
   "metadata": {},
   "outputs": [],
   "source": [
    "# 3.What does the functions os.getcwd() and os.chdir() do ?"
   ]
  },
  {
   "cell_type": "code",
   "execution_count": null,
   "id": "87d95256-319a-4e09-a29b-f226bd3e2fdb",
   "metadata": {},
   "outputs": [],
   "source": [
    "os.getcwd() method tells us the location of current working directory (CWD). Whereas os.chdir() method in Python used to change the current working directory to specified path. These functions are similar to linux commands pwd and cd"
   ]
  },
  {
   "cell_type": "code",
   "execution_count": null,
   "id": "adc933a9-46a7-42db-803e-17671be2de74",
   "metadata": {},
   "outputs": [],
   "source": [
    "import os\n",
    "print(os.getcwd()) # Prints the current Working Directory\n",
    "path = r'work/Basic_Assignment_9.ipynb'\n",
    "os.chdir(path)\n",
    "print(os.getcwd())"
   ]
  },
  {
   "cell_type": "code",
   "execution_count": null,
   "id": "278420d8-01ae-44d7-b159-e2a609acc202",
   "metadata": {},
   "outputs": [],
   "source": [
    "# 4.What are . and .. folders ?"
   ]
  },
  {
   "cell_type": "code",
   "execution_count": null,
   "id": "b93bb36d-20d6-49e5-83b4-53dbe4bd7134",
   "metadata": {},
   "outputs": [],
   "source": [
    ". Represents the Current Directory Whereas .. Represents the Parent Directory of the Current Directory\n",
    "For Example: if the below path is my absolute path:\n",
    "C:\\\\Users\\\\vishnu\\\\Documents\\\\iNeuron-Assignments\\\\Python Basic Assignment\n",
    "Then . represents the path C:\\\\Users\\\\vishnu\\\\Documents\\\\iNeuron-Assignments\\\\Python Basic Assignment\n",
    "Where as .. represents the path C:\\\\Users\\\\vishnu\\\\Documents\\\\iNeuron-Assignments"
   ]
  },
  {
   "cell_type": "code",
   "execution_count": null,
   "id": "c5cb1c49-5b7e-4778-ae55-578b5b7b36f5",
   "metadata": {},
   "outputs": [],
   "source": [
    "# 5.In C:\\bacon\\eggs\\spam.txt which part is the dir name and which part is the base name ?"
   ]
  },
  {
   "cell_type": "code",
   "execution_count": null,
   "id": "f8c9969a-157d-4f9b-ad1a-b0d979051601",
   "metadata": {},
   "outputs": [],
   "source": [
    "For C:\\bacon\\eggs\\spam.txt\n",
    "The dir name is C:\\\\bacon\\\\eggs\n",
    "The Base name is spam.txt"
   ]
  },
  {
   "cell_type": "code",
   "execution_count": 5,
   "id": "462bcfc0-f528-4091-8f69-baee12496656",
   "metadata": {},
   "outputs": [
    {
     "name": "stdout",
     "output_type": "stream",
     "text": [
      "\n",
      "C:\\bacon\\eggs\\spam.txt\n"
     ]
    }
   ],
   "source": [
    "import os\n",
    "path = r'C:\\bacon\\eggs\\spam.txt'\n",
    "print(os.path.dirname(path))\n",
    "print(os.path.basename(path))"
   ]
  },
  {
   "cell_type": "code",
   "execution_count": null,
   "id": "8c08368e-0a12-4dc1-9a1b-12ea3ff5f605",
   "metadata": {},
   "outputs": [],
   "source": [
    "# 6.What are the three mode arguments that can be passed to the open() function ?"
   ]
  },
  {
   "cell_type": "code",
   "execution_count": null,
   "id": "51e659ff-a5b0-4d86-8da8-f826336ea68e",
   "metadata": {},
   "outputs": [],
   "source": [
    "A file can be Accessed in python using open() function. open function takes two arguments filename and mode of operation (optional). if mode is not provided the default mode of opening is read mode\n",
    "So, the syntax being: open(filename, mode)\n",
    "\n",
    "‘r’ – Read Mode: This is the default mode for open(). The file is opened and a pointer is positioned at the beginning of the file’s content.\n",
    "‘w’ – Write Mode: Using this mode will overwrite any existing content in a file. If the given file does not exist, a new one will be created.\n",
    "‘r+’ – Read/Write Mode: Use this mode if you need to simultaneously read and write to a file.\n",
    "‘a’ – Append Mode: With this mode the user can append the data without overwriting any already existing data in the file.\n",
    "‘a+’ – Append and Read Mode: In this mode you can read and append the data without overwriting the original file.\n",
    "‘x’ – Exclusive Creating Mode: This mode is for the sole purpose of creating new files. Use this mode if you know the file to be written doesn’t exist beforehand."
   ]
  },
  {
   "cell_type": "code",
   "execution_count": null,
   "id": "a5353ab0-7966-481f-bf19-519598cb20a0",
   "metadata": {},
   "outputs": [],
   "source": [
    "# 7.What happens if an existing file is opened in write mode ?"
   ]
  },
  {
   "cell_type": "code",
   "execution_count": null,
   "id": "09a755af-ba3f-4a09-ad92-c49b977e8de8",
   "metadata": {},
   "outputs": [],
   "source": [
    "Using this mode will overwrite any existing content in a file. If the given file does not exist, a new one will be created."
   ]
  },
  {
   "cell_type": "code",
   "execution_count": null,
   "id": "134f8e3d-9b3d-4855-ab82-5545b16bb23c",
   "metadata": {},
   "outputs": [],
   "source": [
    "# 8.How do you tell the difference between read() and readlines() ?"
   ]
  },
  {
   "cell_type": "code",
   "execution_count": null,
   "id": "602b8ac9-f73b-40b6-bb83-e6fa36548b93",
   "metadata": {},
   "outputs": [],
   "source": [
    "The main difference is that read() will read the whole file at once and then print out the first characters that take up as many bytes as you specify in the parenthesis\n",
    "\n",
    "Whereas the readline() that will read and print out only the first characters that take up as many bytes as you specify in the parenthesis. You may want to use readline() when you're reading files that are too big for your RAM.\n",
    "The read() would treat each character in the file separately, meaning that the iteration would happen for every character.\n",
    "The readline() function, on the other hand, only reads a single line of the file. This means that if the first line of the file were three lines long, the readline() function would only parse (or iterate/operate) on the first line of the file."
   ]
  },
  {
   "cell_type": "code",
   "execution_count": null,
   "id": "ff382ca1-6174-429f-991e-6d18d3760cd3",
   "metadata": {},
   "outputs": [],
   "source": [
    "# 9.What data structure does a shelf value resemble ?"
   ]
  },
  {
   "cell_type": "code",
   "execution_count": null,
   "id": "0e568ce8-929f-4dd0-9758-a6b184932e0d",
   "metadata": {},
   "outputs": [],
   "source": [
    "it contains key and values it represents dictionary."
   ]
  }
 ],
 "metadata": {
  "kernelspec": {
   "display_name": "Python 3 (ipykernel)",
   "language": "python",
   "name": "python3"
  },
  "language_info": {
   "codemirror_mode": {
    "name": "ipython",
    "version": 3
   },
   "file_extension": ".py",
   "mimetype": "text/x-python",
   "name": "python",
   "nbconvert_exporter": "python",
   "pygments_lexer": "ipython3",
   "version": "3.10.6"
  }
 },
 "nbformat": 4,
 "nbformat_minor": 5
}
