{
 "cells": [
  {
   "cell_type": "code",
   "execution_count": null,
   "id": "0b026e83-ee92-4e5b-9063-bc98ecf5639b",
   "metadata": {},
   "outputs": [],
   "source": [
    "1. Write a Python Program to Find the Factorial of a Number?"
   ]
  },
  {
   "cell_type": "code",
   "execution_count": 8,
   "id": "5b80c21b-6591-47c7-be81-a43ecba8cc66",
   "metadata": {},
   "outputs": [
    {
     "name": "stdin",
     "output_type": "stream",
     "text": [
      "Enter the Number 4\n"
     ]
    },
    {
     "name": "stdout",
     "output_type": "stream",
     "text": [
      "The factorial of 4 is 24\n"
     ]
    }
   ],
   "source": [
    "def fact():\n",
    "    num = int(input(\"Enter the Number\"))\n",
    "    fact = 1\n",
    "    if num < 0:\n",
    "        print(\"Enter the Positive num\")\n",
    "    elif num == 0:\n",
    "        print(\"factorial can't be done\")\n",
    "    else:\n",
    "        for i in range(1,num + 1):\n",
    "            fact = fact*i\n",
    "    print(\"The factorial of\",num,\"is\",fact)\n",
    "\n",
    "fact()"
   ]
  },
  {
   "cell_type": "code",
   "execution_count": null,
   "id": "704afbd0-bb2d-4569-9fa8-7e7ce0b0a852",
   "metadata": {},
   "outputs": [],
   "source": [
    "2. Write a Python Program to Display the multiplication Table?"
   ]
  },
  {
   "cell_type": "code",
   "execution_count": 11,
   "id": "a0ef87c4-9c01-4275-9dc1-c8b351a2e3e7",
   "metadata": {},
   "outputs": [
    {
     "name": "stdin",
     "output_type": "stream",
     "text": [
      "Enter the number 5\n"
     ]
    },
    {
     "name": "stdout",
     "output_type": "stream",
     "text": [
      "5 x 1 = 5\n",
      "5 x 2 = 10\n",
      "5 x 3 = 15\n",
      "5 x 4 = 20\n",
      "5 x 5 = 25\n",
      "5 x 6 = 30\n",
      "5 x 7 = 35\n",
      "5 x 8 = 40\n",
      "5 x 9 = 45\n",
      "5 x 10 = 50\n"
     ]
    }
   ],
   "source": [
    "def multtable():\n",
    "    mult = int(input(\"Enter the number\"))\n",
    "    for i in range(1, 11):\n",
    "           print(mult, 'x', i, '=', mult*i)\n",
    "            \n",
    "multtable()"
   ]
  },
  {
   "cell_type": "code",
   "execution_count": null,
   "id": "a0ef84ff-a2fb-42b5-93dd-72ed267817a8",
   "metadata": {},
   "outputs": [],
   "source": [
    "3. Write a Python Program to Print the Fibonacci sequence?"
   ]
  },
  {
   "cell_type": "code",
   "execution_count": 17,
   "id": "3f1787a2-3419-434d-941d-68048c5e82d5",
   "metadata": {},
   "outputs": [
    {
     "data": {
      "text/plain": [
       "1"
      ]
     },
     "execution_count": 17,
     "metadata": {},
     "output_type": "execute_result"
    }
   ],
   "source": [
    "def Fibonacci(n):\n",
    "    if n < 0:\n",
    "        print(\"Incorrect input\")\n",
    "    elif n == 0:\n",
    "        return 0\n",
    "    elif n == 1 or n == 2:\n",
    "        return 1\n",
    "    else:\n",
    "        return Fibonacci(n-1) + Fibonacci(n-2)\n",
    " \n",
    "Fibonacci(1)"
   ]
  },
  {
   "cell_type": "code",
   "execution_count": null,
   "id": "e5a7ab09-c771-4ea1-810e-de095c8d108a",
   "metadata": {},
   "outputs": [],
   "source": [
    "4. Write a Python Program to Check Armstrong Number?"
   ]
  },
  {
   "cell_type": "code",
   "execution_count": 32,
   "id": "91f3f2a9-6889-448a-8bef-67aec2cf9077",
   "metadata": {},
   "outputs": [
    {
     "name": "stdin",
     "output_type": "stream",
     "text": [
      "Enter a number:  407\n"
     ]
    },
    {
     "name": "stdout",
     "output_type": "stream",
     "text": [
      "407 is an Armstrong number\n"
     ]
    }
   ],
   "source": [
    "inp = int(input(\"Enter a number: \"))\n",
    "sum = 0\n",
    "temp = inp\n",
    "while temp > 0:\n",
    "   digit = temp % 10\n",
    "   sum += digit ** 3\n",
    "   temp //= 10\n",
    "if inp == sum:\n",
    "   print(inp,\"is an Armstrong number\")\n",
    "else:\n",
    "   print(inp,\"is not an Armstrong number\")"
   ]
  },
  {
   "cell_type": "code",
   "execution_count": null,
   "id": "2cd22e6d-dfa0-42d1-935c-776c8d7a6c7a",
   "metadata": {},
   "outputs": [],
   "source": [
    "5. Write a Python Program to Find Armstrong Number in an Interval?"
   ]
  },
  {
   "cell_type": "code",
   "execution_count": 38,
   "id": "cda9fb44-74dc-4a3b-8b5b-b86e8662dda3",
   "metadata": {},
   "outputs": [
    {
     "name": "stdin",
     "output_type": "stream",
     "text": [
      "Enter the Starting number 1\n",
      "Enter the Ending number 7\n"
     ]
    },
    {
     "name": "stdout",
     "output_type": "stream",
     "text": [
      "1\n",
      "2\n",
      "3\n",
      "4\n",
      "5\n",
      "6\n",
      "7\n"
     ]
    }
   ],
   "source": [
    "def arminterval():\n",
    "    lower = int(input(\"Enter the Starting number\"))\n",
    "    upper = int(input(\"Enter the Ending number\"))\n",
    "    for num in range(lower, upper + 1):\n",
    "        order = len(str(num))\n",
    "        sum = 0\n",
    "        temp = num\n",
    "        while temp > 0:\n",
    "            digit = temp % 10\n",
    "            sum += digit ** order\n",
    "            temp //= 10\n",
    "        if num == sum:\n",
    "            print(num)\n",
    "\n",
    "arminterval()"
   ]
  },
  {
   "cell_type": "code",
   "execution_count": null,
   "id": "18c4db33-4508-425f-bad2-d7ad906a1b89",
   "metadata": {},
   "outputs": [],
   "source": [
    "6. Write a Python Program to Find the Sum of Natural Numbers?"
   ]
  },
  {
   "cell_type": "code",
   "execution_count": 46,
   "id": "edb32b55-2895-42a2-9c08-0a62b3002578",
   "metadata": {},
   "outputs": [
    {
     "name": "stdin",
     "output_type": "stream",
     "text": [
      "Enter the numbers 5\n"
     ]
    },
    {
     "name": "stdout",
     "output_type": "stream",
     "text": [
      "The sum is 15\n"
     ]
    }
   ],
   "source": [
    "def sumnatural():\n",
    "    natnum = int(input(\"Enter the numbers\"))\n",
    "    if natnum < 0:\n",
    "        print(\"Enter a positive number\")\n",
    "    else:\n",
    "        sum = 0\n",
    "        while(natnum > 0):\n",
    "            sum += natnum\n",
    "            natnum -= 1\n",
    "    print(\"The sum is\", sum)\n",
    "        \n",
    "sumnatural()"
   ]
  }
 ],
 "metadata": {
  "kernelspec": {
   "display_name": "Python 3 (ipykernel)",
   "language": "python",
   "name": "python3"
  },
  "language_info": {
   "codemirror_mode": {
    "name": "ipython",
    "version": 3
   },
   "file_extension": ".py",
   "mimetype": "text/x-python",
   "name": "python",
   "nbconvert_exporter": "python",
   "pygments_lexer": "ipython3",
   "version": "3.10.6"
  }
 },
 "nbformat": 4,
 "nbformat_minor": 5
}
