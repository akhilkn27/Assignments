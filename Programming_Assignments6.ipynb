{
 "cells": [
  {
   "cell_type": "code",
   "execution_count": null,
   "id": "9bd77a58-7d43-4e33-a42a-1e7d7e556dd1",
   "metadata": {},
   "outputs": [],
   "source": [
    "1. Write a Python Program to Display Fibonacci Sequence Using Recursion?"
   ]
  },
  {
   "cell_type": "code",
   "execution_count": 1,
   "id": "8b58ea26-4bc9-45e8-aaa8-5b08ad99fd18",
   "metadata": {},
   "outputs": [
    {
     "name": "stdin",
     "output_type": "stream",
     "text": [
      "Enter the number 13\n"
     ]
    },
    {
     "name": "stdout",
     "output_type": "stream",
     "text": [
      "Fibonacci sequence:\n",
      "0\n",
      "1\n",
      "1\n",
      "2\n",
      "3\n",
      "5\n",
      "8\n",
      "13\n",
      "21\n",
      "34\n",
      "55\n",
      "89\n",
      "144\n"
     ]
    }
   ],
   "source": [
    "def fibo(n):\n",
    "   if n <= 1:\n",
    "       return n\n",
    "   else:\n",
    "       return(fibo(n-1) + fibo(n-2))\n",
    "\n",
    "num3 = int(input(\"Enter the number\"))\n",
    "\n",
    "if num3 <= 0:\n",
    "   print(\"Plese enter a positive integer\")\n",
    "else:\n",
    "   print(\"Fibonacci sequence:\")\n",
    "   for i in range(num3):\n",
    "       print(fibo(i))"
   ]
  },
  {
   "cell_type": "code",
   "execution_count": null,
   "id": "6ee542fb-ee89-41d5-b1d5-8bb2b92d905e",
   "metadata": {},
   "outputs": [],
   "source": [
    "2. Write a Python Program to Find Factorial of Number Using Recursion?"
   ]
  },
  {
   "cell_type": "code",
   "execution_count": 3,
   "id": "d9c504e8-d1e6-4f8a-b365-a61e4b1e4aa9",
   "metadata": {},
   "outputs": [
    {
     "name": "stdin",
     "output_type": "stream",
     "text": [
      "Enter the number 8\n"
     ]
    },
    {
     "name": "stdout",
     "output_type": "stream",
     "text": [
      "The factorial of 8 is 40320\n"
     ]
    }
   ],
   "source": [
    "def fact(n):\n",
    "   if n == 1:\n",
    "       return n\n",
    "   else:\n",
    "       return n*fact(n-1)\n",
    "\n",
    "\n",
    "num = int(input(\"Enter the number\"))\n",
    "if num < 0:\n",
    "   print(\"Sorry, factorial does not exist for negative numbers\")\n",
    "elif num == 0:\n",
    "   print(\"The factorial of 0 is 1\")\n",
    "else:\n",
    "   print(\"The factorial of\", num, \"is\", fact(num))"
   ]
  },
  {
   "cell_type": "code",
   "execution_count": null,
   "id": "19a18d45-89f8-4854-9124-851a9cb534c0",
   "metadata": {},
   "outputs": [],
   "source": [
    "3. Write a Python Program to calculate your Body Mass Index?"
   ]
  },
  {
   "cell_type": "code",
   "execution_count": 4,
   "id": "60bd3974-d9ba-44e3-a0d6-137f5c0fc1a5",
   "metadata": {},
   "outputs": [
    {
     "name": "stdin",
     "output_type": "stream",
     "text": [
      "Enter the Weight of a Person in KG 75\n",
      "Enter the Height of a Person in metres 1.56\n"
     ]
    },
    {
     "name": "stdout",
     "output_type": "stream",
     "text": [
      "The BMI of a person is 30.818540433925047\n"
     ]
    }
   ],
   "source": [
    "def bmi():\n",
    "    wt = float(input(\"Enter the Weight of a Person in KG\"))\n",
    "    ht = float(input(\"Enter the Height of a Person in metres\"))\n",
    "    bmi = float(wt/ (ht * ht))\n",
    "    print(\"The BMI of a person is\",bmi)   \n",
    "bmi()"
   ]
  },
  {
   "cell_type": "code",
   "execution_count": null,
   "id": "826965cd-74e1-4d66-b2f8-1fb960fa5cb4",
   "metadata": {},
   "outputs": [],
   "source": [
    "4. Write a Python Program to calculate the natural logarithm of any number?"
   ]
  },
  {
   "cell_type": "code",
   "execution_count": 5,
   "id": "3eef274a-8258-49f7-bef1-45b349b7359e",
   "metadata": {},
   "outputs": [
    {
     "name": "stdin",
     "output_type": "stream",
     "text": [
      "Enter the number to find the Logarithm 15\n",
      "Enter the base to find for the number 6\n"
     ]
    },
    {
     "name": "stdout",
     "output_type": "stream",
     "text": [
      "Natural logarithm of 15.0 is : 2.70805020110221\n",
      "Logarithm base 6.0 of 15.0 is : 1.1605584217036247\n"
     ]
    }
   ],
   "source": [
    "import math\n",
    "\n",
    "def naturallog():\n",
    "    num2 = float(input(\"Enter the number to find the Logarithm\"))\n",
    "    base = float(input(\"Enter the base to find for the number\"))\n",
    "    print (f\"Natural logarithm of {num2} is : \",end=\"\")\n",
    "    print (math.log(num2))\n",
    " \n",
    "    print (f\"Logarithm base {base} of {num2} is : \", end=\"\")\n",
    "    print (math.log(num,base))\n",
    "\n",
    "naturallog()"
   ]
  },
  {
   "cell_type": "code",
   "execution_count": null,
   "id": "0cda94fd-f7a6-46ae-8c2b-1d74a7f67141",
   "metadata": {},
   "outputs": [],
   "source": [
    "5. Write a Python Program for cube sum of first n natural numbers?"
   ]
  },
  {
   "cell_type": "code",
   "execution_count": 8,
   "id": "f607475c-e220-48fa-86b7-fa7a7d5bbd69",
   "metadata": {},
   "outputs": [
    {
     "name": "stdin",
     "output_type": "stream",
     "text": [
      "Enter the Number to find till it's cube 6\n"
     ]
    },
    {
     "name": "stdout",
     "output_type": "stream",
     "text": [
      "441\n"
     ]
    }
   ],
   "source": [
    "def cube():\n",
    "    n = int(input(\"Enter the Number to find till it's cube\"))\n",
    "    s=0\n",
    "    for i in range(1,n+1):\n",
    "        s=s+pow(i,3)\n",
    "    print(s) \n",
    "\n",
    "cube()"
   ]
  },
  {
   "cell_type": "code",
   "execution_count": null,
   "id": "120f869a-4241-4979-9743-b685d57bc80b",
   "metadata": {},
   "outputs": [],
   "source": []
  }
 ],
 "metadata": {
  "kernelspec": {
   "display_name": "Python 3 (ipykernel)",
   "language": "python",
   "name": "python3"
  },
  "language_info": {
   "codemirror_mode": {
    "name": "ipython",
    "version": 3
   },
   "file_extension": ".py",
   "mimetype": "text/x-python",
   "name": "python",
   "nbconvert_exporter": "python",
   "pygments_lexer": "ipython3",
   "version": "3.10.6"
  }
 },
 "nbformat": 4,
 "nbformat_minor": 5
}
