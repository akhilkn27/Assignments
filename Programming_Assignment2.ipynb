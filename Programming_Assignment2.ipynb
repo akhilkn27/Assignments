{
 "cells": [
  {
   "cell_type": "code",
   "execution_count": null,
   "id": "b485ef20-2191-4486-b932-9253e6cdd212",
   "metadata": {},
   "outputs": [],
   "source": [
    "1. Write a Python program to convert kilometers to miles?"
   ]
  },
  {
   "cell_type": "code",
   "execution_count": 12,
   "id": "3fbe8459-04f3-42f0-8d26-33337bcf68ad",
   "metadata": {},
   "outputs": [
    {
     "name": "stdin",
     "output_type": "stream",
     "text": [
      "Enter the Kilometre to convert for Miles 2\n"
     ]
    },
    {
     "name": "stdout",
     "output_type": "stream",
     "text": [
      "Entered KM=2.0 and in Miles=1.24\n"
     ]
    }
   ],
   "source": [
    "def milestokm():\n",
    "    \"\"\"KM to Miles converter\"\"\"\n",
    "    inp1 = float(input(\"Enter the Kilometre to convert for Miles\"))\n",
    "    out1 = inp1 * 0.62\n",
    "    print(f\"Entered KM={inp1} and in Miles={out1}\")\n",
    "    \n",
    "milestokm()    "
   ]
  },
  {
   "cell_type": "code",
   "execution_count": null,
   "id": "478db9e7-5a74-49f3-b747-0b04173545e3",
   "metadata": {},
   "outputs": [],
   "source": [
    "2. Write a Python program to convert Celsius to Fahrenheit?"
   ]
  },
  {
   "cell_type": "code",
   "execution_count": 15,
   "id": "52e78d12-57be-4b1c-9747-e122875be9b6",
   "metadata": {},
   "outputs": [
    {
     "name": "stdin",
     "output_type": "stream",
     "text": [
      "Enter the Celsius to convert for Fahrenheit 37.5\n"
     ]
    },
    {
     "name": "stdout",
     "output_type": "stream",
     "text": [
      "Entered Celsius=37.5 and in Fahrenheit=99.5\n"
     ]
    }
   ],
   "source": [
    "def celfahren():\n",
    "    \"\"\"Celsius to Fahrenheit converter\"\"\"\n",
    "    inp2 = float(input(\"Enter the Celsius to convert for Fahrenheit\"))\n",
    "    out2 = inp2 * 1.8 + 32\n",
    "    print(f\"Entered Celsius={inp2} and in Fahrenheit={out2}\")\n",
    "    \n",
    "celfahren()    "
   ]
  },
  {
   "cell_type": "code",
   "execution_count": null,
   "id": "9ac80009-a08e-4b6a-abf0-e625f4c8dd22",
   "metadata": {},
   "outputs": [],
   "source": [
    "3. Write a Python program to display calendar?"
   ]
  },
  {
   "cell_type": "code",
   "execution_count": 45,
   "id": "83bb8150-fade-4f3d-91a2-a03c598a2879",
   "metadata": {},
   "outputs": [
    {
     "name": "stdin",
     "output_type": "stream",
     "text": [
      "Enter the Valid Year 2023\n",
      "Enter the Valid Month 2\n"
     ]
    },
    {
     "name": "stdout",
     "output_type": "stream",
     "text": [
      "   February 2023\n",
      "Mo Tu We Th Fr Sa Su\n",
      "       1  2  3  4  5\n",
      " 6  7  8  9 10 11 12\n",
      "13 14 15 16 17 18 19\n",
      "20 21 22 23 24 25 26\n",
      "27 28\n",
      "\n"
     ]
    }
   ],
   "source": [
    "import calendar\n",
    "\n",
    "def caldisp():\n",
    "    \"\"\"Display calendar for a Month & year\"\"\"\n",
    "    yr = int(input(\"Enter the Valid Year\"))\n",
    "    mon = int(input(\"Enter the Valid Month\"))\n",
    "    print(calendar.month(yr, mon))\n",
    "    \n",
    "caldisp()"
   ]
  },
  {
   "cell_type": "code",
   "execution_count": null,
   "id": "23ede654-ac3f-4862-ae2b-0875b107dbb5",
   "metadata": {},
   "outputs": [],
   "source": [
    "4. Write a Python program to solve quadratic equation?"
   ]
  },
  {
   "cell_type": "code",
   "execution_count": 37,
   "id": "b86aeba5-b25a-43e7-9ad1-9b2094f5381e",
   "metadata": {},
   "outputs": [
    {
     "name": "stdin",
     "output_type": "stream",
     "text": [
      "Enter the value of A 1\n",
      "Enter the value of B 5\n",
      "Enter the value of C 6\n"
     ]
    },
    {
     "name": "stdout",
     "output_type": "stream",
     "text": [
      "The solution are (-3+0j) and (-2+0j)\n"
     ]
    }
   ],
   "source": [
    "import cmath\n",
    "\n",
    "def quadeqn():\n",
    "    \"\"\"Solve a Quadratic Equation\"\"\"\n",
    "    a = int(input(\"Enter the value of A\"))\n",
    "    b = int(input(\"Enter the value of B\"))\n",
    "    c = int(input(\"Enter the value of C\"))\n",
    "    d = (b**2) - (4*a*c)\n",
    "    sol1 = (-b-cmath.sqrt(d))/(2*a)\n",
    "    sol2 = (-b+cmath.sqrt(d))/(2*a)\n",
    "    print('The solution are {0} and {1}'.format(sol1,sol2))\n",
    "    \n",
    "quadeqn()"
   ]
  },
  {
   "cell_type": "code",
   "execution_count": null,
   "id": "1b544633-3f1d-4bcc-88c8-5a68c99c9d32",
   "metadata": {},
   "outputs": [],
   "source": [
    "5. Write a Python program to swap two variables without temp variable?"
   ]
  },
  {
   "cell_type": "code",
   "execution_count": 43,
   "id": "d7d98e15-533d-4e0c-92ea-23f85d83edac",
   "metadata": {},
   "outputs": [
    {
     "name": "stdin",
     "output_type": "stream",
     "text": [
      "Enter the Variable1 98\n",
      "Enter the Variable2 12\n"
     ]
    },
    {
     "name": "stdout",
     "output_type": "stream",
     "text": [
      "The Swapped no's are 98 and 12\n"
     ]
    }
   ],
   "source": [
    "def swapnum():\n",
    "    \"\"\"Swap two variables without temp variable\"\"\"\n",
    "    var1 = int(input(\"Enter the Variable1\"))\n",
    "    var2 = int(input(\"Enter the Variable2\"))\n",
    "    var1 = var1 + var2\n",
    "    var2 = var1 - var2\n",
    "    var1 = var1 - var2\n",
    "    print(f\"The Swapped no's are {var2} and {var1}\")\n",
    "\n",
    "swapnum()"
   ]
  }
 ],
 "metadata": {
  "kernelspec": {
   "display_name": "Python 3 (ipykernel)",
   "language": "python",
   "name": "python3"
  },
  "language_info": {
   "codemirror_mode": {
    "name": "ipython",
    "version": 3
   },
   "file_extension": ".py",
   "mimetype": "text/x-python",
   "name": "python",
   "nbconvert_exporter": "python",
   "pygments_lexer": "ipython3",
   "version": "3.10.6"
  }
 },
 "nbformat": 4,
 "nbformat_minor": 5
}
