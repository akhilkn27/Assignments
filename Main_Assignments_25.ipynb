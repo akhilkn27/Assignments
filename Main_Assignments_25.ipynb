{
 "cells": [
  {
   "cell_type": "code",
   "execution_count": null,
   "id": "0fd67fc6-efdc-4ef3-8dbd-247bddb1ed24",
   "metadata": {},
   "outputs": [],
   "source": [
    "# 1)What is the difference between enclosing a list comprehension in square brackets and parentheses?"
   ]
  },
  {
   "cell_type": "code",
   "execution_count": null,
   "id": "aaf0f002-719b-4cd9-8948-1cf78f104a0d",
   "metadata": {},
   "outputs": [],
   "source": [
    "The difference between the two kinds of expressions is that the List comprehension is enclosed in square brackets [] \n",
    "while the Generator expression is enclosed in plain parentheses ()"
   ]
  },
  {
   "cell_type": "code",
   "execution_count": 5,
   "id": "dc1c4d88-6302-4b4f-b064-63d890e8f900",
   "metadata": {},
   "outputs": [
    {
     "name": "stdout",
     "output_type": "stream",
     "text": [
      "[0, 1, 2, 3, 4, 5, 6, 7, 8, 9] <class 'list'>\n",
      "<generator object <genexpr> at 0x7f8d94147b50> <class 'generator'>\n"
     ]
    }
   ],
   "source": [
    "#Lists\n",
    "l = [ele for ele in range(10)]\n",
    "print(l, type(l))\n",
    "\n",
    "#Generator\n",
    "g = (ele for ele in range(10))\n",
    "print(g, type(g))"
   ]
  },
  {
   "cell_type": "code",
   "execution_count": null,
   "id": "ae3c2e53-8d19-4b84-b5b0-5064f22f62ba",
   "metadata": {},
   "outputs": [],
   "source": [
    "# 2) What is the relationship between generators and iterators?"
   ]
  },
  {
   "cell_type": "code",
   "execution_count": null,
   "id": "f74d0fa5-1115-4e01-b31b-38b254b2ba0a",
   "metadata": {},
   "outputs": [],
   "source": [
    "Generators : It is another way of creating iterators in a simple way where it uses the keyword “yield” instead of returning it in a defined function. Generators are implemented using a function. \n",
    "Just as iterators, generators also follow lazy evaluation. Here, the yield function returns the data without affecting or exiting the function. It will return a sequence of data in an iterable format \n",
    "where we need to iterate over the sequence to use the data as they won’t store the entire sequence in the memory.\n",
    "\n",
    "\n",
    "Iterators : An iterator is an object which contains a countable number of values and it is used to iterate over iterable objects like list, tuples, sets, etc. \n",
    "Iterators are implemented using a class and a local variable for iterating is not required here, It follows lazy evaluation where the evaluation of the expression will be on hold and \n",
    "stored in the memory until the item is called specifically which helps us to avoid repeated evaluation. \n",
    "As lazy evaluation is implemented, it requires only 1 memory location to process the value and when we are using a large dataset then, wastage of RAM space will be reduced the need to load the entire dataset at the same time will not be there."
   ]
  },
  {
   "cell_type": "code",
   "execution_count": 2,
   "id": "2b761470-6a19-48f4-8898-c8b1b9f86174",
   "metadata": {},
   "outputs": [],
   "source": [
    "# 3) What are the signs that a function is a generator function?"
   ]
  },
  {
   "cell_type": "code",
   "execution_count": null,
   "id": "49dc9888-4971-49ca-8f17-6c04ae0b21de",
   "metadata": {},
   "outputs": [],
   "source": [
    "In a generator function, a yield statement is used rather than a return statement."
   ]
  },
  {
   "cell_type": "code",
   "execution_count": 3,
   "id": "69aae7a3-1e75-4ce0-8f5e-42e274f7af31",
   "metadata": {},
   "outputs": [],
   "source": [
    "# 4) What is the purpose of a yield statement?"
   ]
  },
  {
   "cell_type": "code",
   "execution_count": null,
   "id": "60c6ca44-b690-461c-8c1a-d6c625d230b9",
   "metadata": {},
   "outputs": [],
   "source": [
    "Yield is a keyword in Python that is used to return from a function without destroying the states of its local variable and \n",
    "when the function is called, the execution starts from the last yield statement. Any function that contains a yield keyword is termed as generator. \n",
    "Hence, yield is what makes a generator. yield keyword in Python is less known off but has a greater utility which one can think of."
   ]
  },
  {
   "cell_type": "code",
   "execution_count": null,
   "id": "c32b327d-d559-4c8f-9d9a-59339d87b220",
   "metadata": {},
   "outputs": [],
   "source": [
    "# 5) What is the relationship between map calls and list comprehensions? Make a comparison and contrast between the two."
   ]
  },
  {
   "cell_type": "code",
   "execution_count": null,
   "id": "4cbbc1db-b6f0-4721-98a8-ff46ae169d29",
   "metadata": {},
   "outputs": [],
   "source": [
    " - List comprehension is more concise and easier to read as compared to map.\n",
    " - List comprehension allows filtering. In map, we have no such facility. For example, to print all even numbers in range of 100, we can write [n for n in range(100) if n%2 == 0]. There is no alternate for it in map.\n",
    " - List comprehension are used when a list of results is required as map only returns a map object and does not return any list.\n",
    " - List comprehension is faster than map when we need to evaluate expressions that are too long or complicated to express.\n",
    " - Map is faster in case of calling an already defined function (as no lambda is required)."
   ]
  }
 ],
 "metadata": {
  "kernelspec": {
   "display_name": "Python 3 (ipykernel)",
   "language": "python",
   "name": "python3"
  },
  "language_info": {
   "codemirror_mode": {
    "name": "ipython",
    "version": 3
   },
   "file_extension": ".py",
   "mimetype": "text/x-python",
   "name": "python",
   "nbconvert_exporter": "python",
   "pygments_lexer": "ipython3",
   "version": "3.10.6"
  }
 },
 "nbformat": 4,
 "nbformat_minor": 5
}
