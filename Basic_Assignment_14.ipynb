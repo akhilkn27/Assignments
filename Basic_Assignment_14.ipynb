{
 "cells": [
  {
   "cell_type": "code",
   "execution_count": null,
   "id": "7a2e1966-247d-40fd-9917-5e3171da9c0e",
   "metadata": {},
   "outputs": [],
   "source": [
    "# 1. What does RGBA stand for?"
   ]
  },
  {
   "cell_type": "code",
   "execution_count": null,
   "id": "b2bfd753-f18d-47dc-96ca-e7fa3788854a",
   "metadata": {},
   "outputs": [],
   "source": [
    "RGBA is a four-channel format containing data for Red, Green, Blue, and an Alpha value. Where Alpha Represents the Opacity"
   ]
  },
  {
   "cell_type": "code",
   "execution_count": null,
   "id": "4fe4b9db-73ea-4b89-b58e-2e2c97d81799",
   "metadata": {},
   "outputs": [],
   "source": [
    "# 2. From the Pillow module, how do you get the RGBA value of any images?"
   ]
  },
  {
   "cell_type": "code",
   "execution_count": null,
   "id": "3676a549-08c3-45d6-814a-43291ce71008",
   "metadata": {},
   "outputs": [],
   "source": [
    "ImageColor.getcolor() gives rgba value of any image"
   ]
  },
  {
   "cell_type": "code",
   "execution_count": null,
   "id": "1ea58fda-3e37-4ffb-8c8e-787196569ecd",
   "metadata": {},
   "outputs": [],
   "source": [
    "# 3. What is a box tuple, and how does it work?"
   ]
  },
  {
   "cell_type": "code",
   "execution_count": null,
   "id": "48f3cb31-955f-48ca-903b-33f764db75fd",
   "metadata": {},
   "outputs": [],
   "source": [
    "A box tuple is a tuple value of four integers: the left-edge x-coordinate, the top-edge y-coordinate,the width, and the height, respectively."
   ]
  },
  {
   "cell_type": "code",
   "execution_count": null,
   "id": "524ab9b3-8323-4824-9aa0-beed1b37ef3a",
   "metadata": {},
   "outputs": [],
   "source": [
    "# 4. Use your image and load in notebook then, How can you find out the width and height of an Image object?"
   ]
  },
  {
   "cell_type": "code",
   "execution_count": null,
   "id": "8d1ca736-366d-48fd-bf26-181d8a992203",
   "metadata": {},
   "outputs": [],
   "source": [
    "#Example Program\n",
    "from PIL import Image\n",
    "pic = Image.open('Pic.jpg')\n",
    "print(f'Width, Height -> {pic.size}') # Approach 1\n",
    "print(f'Width, Height -> {pic.width},{pic.height}') # Approach 2\n",
    "width,height = pic.size\n",
    "print(f'Width, Height -> {width},{height}') # Approach 3"
   ]
  },
  {
   "cell_type": "code",
   "execution_count": null,
   "id": "7178208e-4e72-46b4-8be5-2478e4805b2a",
   "metadata": {},
   "outputs": [],
   "source": [
    "# 5. What method would you call to get Image object for a 100×100 image, excluding the lower-left quarter of it?"
   ]
  },
  {
   "cell_type": "code",
   "execution_count": null,
   "id": "b3c9be72-cb99-4bb6-bbc3-bf757050fff3",
   "metadata": {},
   "outputs": [],
   "source": [
    "from PIL import Image\n",
    "img = Image.open('Pic.jpg')\n",
    "new_img = img.crop((0,50,50,50))\n"
   ]
  },
  {
   "cell_type": "code",
   "execution_count": null,
   "id": "981084f4-5c6d-410b-87f3-9191de7a47a6",
   "metadata": {},
   "outputs": [],
   "source": [
    "# 6. After making changes to an Image object, how could you save it as an image file?"
   ]
  },
  {
   "cell_type": "code",
   "execution_count": null,
   "id": "171831b6-0a11-477c-984b-b5121614bf06",
   "metadata": {},
   "outputs": [],
   "source": [
    "#Example Program\n",
    "from PIL import Image\n",
    "pic = Image.open('pic.jpg')\n",
    "pic.save('pic2.jpg')"
   ]
  },
  {
   "cell_type": "code",
   "execution_count": null,
   "id": "2bae64de-8bc9-4f4f-9885-632685042893",
   "metadata": {},
   "outputs": [],
   "source": [
    "# 7. What module contains Pillow’s shape-drawing code?"
   ]
  },
  {
   "cell_type": "code",
   "execution_count": null,
   "id": "2581da5f-1ab8-4dff-a3d9-fcd4e8458ede",
   "metadata": {},
   "outputs": [],
   "source": [
    "Pillows ImageDraw module contains Shape drawing methods"
   ]
  },
  {
   "cell_type": "code",
   "execution_count": null,
   "id": "fa7ee1ab-22f4-4298-a2d1-5180267e99a5",
   "metadata": {},
   "outputs": [],
   "source": [
    "# 8. Image objects do not have drawing methods. What kind of object does? How do you get this kind of object?"
   ]
  },
  {
   "cell_type": "code",
   "execution_count": null,
   "id": "4e2646e4-68c0-419d-8897-6c2c8376b87d",
   "metadata": {},
   "outputs": [],
   "source": [
    "ImageDraw objects have shape-drawing methods such as point(), line(), or rectangle().They are returned by passing the Image object to the ImageDraw.Draw() function"
   ]
  },
  {
   "cell_type": "code",
   "execution_count": null,
   "id": "22218e8c-48aa-4a5c-bf52-2fca637358df",
   "metadata": {},
   "outputs": [],
   "source": []
  },
  {
   "cell_type": "code",
   "execution_count": null,
   "id": "8f050821-d2ba-42f2-8ca5-b9d7c6957867",
   "metadata": {},
   "outputs": [],
   "source": []
  }
 ],
 "metadata": {
  "kernelspec": {
   "display_name": "Python 3 (ipykernel)",
   "language": "python",
   "name": "python3"
  },
  "language_info": {
   "codemirror_mode": {
    "name": "ipython",
    "version": 3
   },
   "file_extension": ".py",
   "mimetype": "text/x-python",
   "name": "python",
   "nbconvert_exporter": "python",
   "pygments_lexer": "ipython3",
   "version": "3.10.6"
  }
 },
 "nbformat": 4,
 "nbformat_minor": 5
}
