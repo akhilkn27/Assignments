{
 "cells": [
  {
   "cell_type": "code",
   "execution_count": null,
   "id": "084471b3-ad27-40fa-9f33-c371911f4cea",
   "metadata": {},
   "outputs": [],
   "source": [
    "1. What is the result of the code, and why?\n",
    ">>> def func(a, b=6, c=8):\n",
    "print(a, b, c)\n",
    ">>> func(1, 2)"
   ]
  },
  {
   "cell_type": "code",
   "execution_count": null,
   "id": "24d97cb2-e392-4ac3-b742-3e0e9fd0a2df",
   "metadata": {},
   "outputs": [],
   "source": [
    "The result of the above code is 1 2 8. its because the function uses the default value of c ie 8 which is provided at the time of declaration"
   ]
  },
  {
   "cell_type": "code",
   "execution_count": 2,
   "id": "0e1cf875-3a5b-4879-ae6a-b8bfa78398dc",
   "metadata": {},
   "outputs": [
    {
     "name": "stdout",
     "output_type": "stream",
     "text": [
      "1 2 8\n"
     ]
    }
   ],
   "source": [
    "def func(a,b=6,c=8):\n",
    "    print(a,b,c)\n",
    "func(1,2)"
   ]
  },
  {
   "cell_type": "code",
   "execution_count": null,
   "id": "2ae77c6f-1833-4ac0-844e-089a319e280e",
   "metadata": {},
   "outputs": [],
   "source": []
  },
  {
   "cell_type": "code",
   "execution_count": null,
   "id": "b3b3391d-7371-497a-a98a-540bb1d07fc3",
   "metadata": {},
   "outputs": [],
   "source": [
    "2. What is the result of this code, and why?\n",
    ">>> def func(a, b, c=5):\n",
    "print(a, b, c)\n",
    ">>> func(1, c=3, b=2)"
   ]
  },
  {
   "cell_type": "code",
   "execution_count": null,
   "id": "aeac0820-d0da-4e5b-b114-69a70afe3725",
   "metadata": {},
   "outputs": [],
   "source": [
    "The line func() takes three values, that is 1 , c= 3 snd b = 2 respectively,the func() is defined to take 3 values, as in func() we pass othree values, the default values gets overwritten, and we get the newly passed values."
   ]
  },
  {
   "cell_type": "code",
   "execution_count": 3,
   "id": "2011b73a-a7b0-45c0-95ca-1496519eb7ec",
   "metadata": {},
   "outputs": [
    {
     "name": "stdout",
     "output_type": "stream",
     "text": [
      "1 2 3\n"
     ]
    }
   ],
   "source": [
    "def func(a,b,c=5):\n",
    "    print(a,b,c)\n",
    "func(1,c=3,b=2)"
   ]
  },
  {
   "cell_type": "code",
   "execution_count": null,
   "id": "930b81e4-1d88-40de-9488-589964cfa100",
   "metadata": {},
   "outputs": [],
   "source": []
  },
  {
   "cell_type": "code",
   "execution_count": null,
   "id": "736f0613-ed9e-435f-8e03-108c4372c233",
   "metadata": {},
   "outputs": [],
   "source": [
    "3. How about this code: what is its result, and why?\n",
    ">>> def func(a, *pargs):\n",
    "print(a, pargs)\n",
    ">>> func(1, 2, 3)"
   ]
  },
  {
   "cell_type": "code",
   "execution_count": null,
   "id": "d8a915d9-c817-4656-9674-62146bf84573",
   "metadata": {},
   "outputs": [],
   "source": [
    " The result of the code is 1 (2,3). *pargs stands for variable length arguments. this format is used when we are not sure about the no of arguments to be passed to a function. all the values under this argument will be stored in a tuple."
   ]
  },
  {
   "cell_type": "code",
   "execution_count": 4,
   "id": "48f56c55-b8fa-4179-8560-70e8a627ebff",
   "metadata": {},
   "outputs": [
    {
     "name": "stdout",
     "output_type": "stream",
     "text": [
      "1 (2, 3)\n"
     ]
    }
   ],
   "source": [
    "def func(a, *pargs):\n",
    "    print(a, pargs)\n",
    "func(1, 2, 3)"
   ]
  },
  {
   "cell_type": "code",
   "execution_count": null,
   "id": "e6cd6632-277b-4cb9-a02f-bbdda8ea3529",
   "metadata": {},
   "outputs": [],
   "source": []
  },
  {
   "cell_type": "code",
   "execution_count": null,
   "id": "0052c102-8213-4e4b-a538-359266049cf0",
   "metadata": {},
   "outputs": [],
   "source": [
    "4. What does this code print, and why?\n",
    ">>> def func(a, **kargs):\n",
    "print(a, kargs)\n",
    ">>> func(a=1, c=3, b=2)"
   ]
  },
  {
   "cell_type": "code",
   "execution_count": null,
   "id": "954a5f5f-0ba1-490c-8015-5c775f76060f",
   "metadata": {},
   "outputs": [],
   "source": [
    "The result of the above code is 1 {'c': 3, 'b': 2}. **args stands for variable length keyword arguments. this format is used when we want pass key value pairs as input to a function. All these key value pairs will be stored in a dictionary"
   ]
  },
  {
   "cell_type": "code",
   "execution_count": 5,
   "id": "2ca7fd87-a8c2-400e-8daf-82a004cee65d",
   "metadata": {},
   "outputs": [
    {
     "name": "stdout",
     "output_type": "stream",
     "text": [
      "1 {'c': 3, 'b': 2}\n"
     ]
    }
   ],
   "source": [
    "def func(a,**kargs):\n",
    "    print(a,kargs)\n",
    "func(a=1,c=3,b=2)"
   ]
  },
  {
   "cell_type": "code",
   "execution_count": null,
   "id": "5e94b3f9-77a3-481c-984a-f5d859eedf7f",
   "metadata": {},
   "outputs": [],
   "source": []
  },
  {
   "cell_type": "code",
   "execution_count": null,
   "id": "6ed380e1-2510-40fc-8693-bf70e1019110",
   "metadata": {},
   "outputs": [],
   "source": [
    "5. What gets printed by this, and explain?\n",
    ">>> def func(a, b, c=8, d=5): print(a, b, c, d)\n",
    ">>> func(1, *(5, 6))"
   ]
  },
  {
   "cell_type": "code",
   "execution_count": null,
   "id": "a86fccc8-00e1-4b1c-ad12-7f170b46753e",
   "metadata": {},
   "outputs": [],
   "source": [
    "The output of the above is 1 5 6 5. This reason for this function not throwing an error is because, this function expects 4 arguments. the value for a is provided explicitly whereas for arguments b and c, the function will expand the *(5,6) and consider the value of b as 5 and value of c as 6. since the default value of d is provided in function declaration d value will be 5. However it is recommended to use the feature of positional arguments at the end."
   ]
  },
  {
   "cell_type": "code",
   "execution_count": 6,
   "id": "5e928b38-7fe1-43ce-a35a-20c550662486",
   "metadata": {},
   "outputs": [
    {
     "name": "stdout",
     "output_type": "stream",
     "text": [
      "1 5 6 5\n"
     ]
    }
   ],
   "source": [
    "def func(a,b,c=8,d=5):\n",
    "    print(a,b,c,d)\n",
    "func(1,*(5,6))"
   ]
  },
  {
   "cell_type": "code",
   "execution_count": null,
   "id": "d41cd21d-aafd-46c9-94f1-aead4c7eed9d",
   "metadata": {},
   "outputs": [],
   "source": []
  },
  {
   "cell_type": "code",
   "execution_count": null,
   "id": "2c7447ba-ae78-4982-b8bd-da6513f0e591",
   "metadata": {},
   "outputs": [],
   "source": [
    "6. what is the result of this, and explain?\n",
    ">>> def func(a, b, c): a = 2; b[0] = 'x'; c['a'] = 'y'\n",
    ">>> l=1; m=[1]; n={'a':0}\n",
    ">>> func(l, m, n)\n",
    ">>> l, m, n"
   ]
  },
  {
   "cell_type": "code",
   "execution_count": null,
   "id": "8224d418-efde-41b9-8f93-acd666bcaa0c",
   "metadata": {},
   "outputs": [],
   "source": [
    "Eventhough Python gives importance to indentation. its provides a facility to declare an entire function in one single line. where statements in a function body are sepereated by ;\n",
    "When l,m,n are provided as inputs to the function. its modifies the values of l,m,n and sets the value of l=2 ,m=['x'] and n={'a':'y'}"
   ]
  },
  {
   "cell_type": "code",
   "execution_count": 7,
   "id": "1efadaa0-7deb-4c42-b361-65f7aff5af9c",
   "metadata": {},
   "outputs": [
    {
     "data": {
      "text/plain": [
       "(1, ['x'], {'a': 'y'})"
      ]
     },
     "execution_count": 7,
     "metadata": {},
     "output_type": "execute_result"
    }
   ],
   "source": [
    "def func(a, b, c): a = 2; b[0] = 'x'; c['a'] = 'y'\n",
    "l=1; m=[1]; n={'a':0}\n",
    "func(l, m, n)\n",
    "l,m,n"
   ]
  },
  {
   "cell_type": "code",
   "execution_count": null,
   "id": "8ec3d7d6-5eb1-40d2-80fd-a685d78acfee",
   "metadata": {},
   "outputs": [],
   "source": []
  }
 ],
 "metadata": {
  "kernelspec": {
   "display_name": "Python 3 (ipykernel)",
   "language": "python",
   "name": "python3"
  },
  "language_info": {
   "codemirror_mode": {
    "name": "ipython",
    "version": 3
   },
   "file_extension": ".py",
   "mimetype": "text/x-python",
   "name": "python",
   "nbconvert_exporter": "python",
   "pygments_lexer": "ipython3",
   "version": "3.10.6"
  }
 },
 "nbformat": 4,
 "nbformat_minor": 5
}
