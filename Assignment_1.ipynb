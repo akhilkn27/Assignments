{
 "cells": [
  {
   "cell_type": "code",
   "execution_count": 1,
   "id": "67d13ca8-87a4-4343-a2ec-fff8cff894f9",
   "metadata": {},
   "outputs": [],
   "source": [
    "# 1. In the below elements which of them are values or an expression? eg:- values can be integer or string and expressions will be mathematical operators.\n",
    "# *\n",
    "# 'hello'\n",
    "# -87.8\n",
    "# -\n",
    "# /\n",
    "# +\n",
    "# 6\n",
    "\n",
    "# Values - hello,87.8,6,\n",
    "# Expressions - *,-,/,+ "
   ]
  },
  {
   "cell_type": "code",
   "execution_count": 2,
   "id": "ee16ca07-55f1-4f62-a1da-84bf288f3cd6",
   "metadata": {},
   "outputs": [],
   "source": [
    "# 2. What is the difference between string and variable?\n",
    "# String - It is a data type and value is stored in this format. Represented either by '' or \"\"\n",
    "# Variable - It's used to store the information. Value will be keep on changing."
   ]
  },
  {
   "cell_type": "code",
   "execution_count": 13,
   "id": "d210dcb6-63f1-4b31-8ba3-52e299b0c35f",
   "metadata": {},
   "outputs": [
    {
     "name": "stdout",
     "output_type": "stream",
     "text": [
      "10\n",
      "10.53\n",
      "String data type\n"
     ]
    },
    {
     "data": {
      "text/plain": [
       "False"
      ]
     },
     "execution_count": 13,
     "metadata": {},
     "output_type": "execute_result"
    }
   ],
   "source": [
    "# 3. Describe three different data types.\n",
    "# Int - It is a whole number, positive or negative, without decimals\n",
    "# Float - It is a number, positive or negative, containing one or more decimals\n",
    "# String - It is haing either by single quote (' ') or double quotes (\" \")\n",
    "# Bool - It is having only two values:- True or False\n",
    "\n",
    "a = 10 # For Int\n",
    "print(a)\n",
    "\n",
    "b = 10.53 # For Float\n",
    "print(b)\n",
    "\n",
    "c = \"String data type\" # For String\n",
    "print(c)\n",
    "\n",
    "a > b #Bool"
   ]
  },
  {
   "cell_type": "code",
   "execution_count": 14,
   "id": "95b32d69-0081-4f30-bb40-34d6b26d5f93",
   "metadata": {},
   "outputs": [
    {
     "data": {
      "text/plain": [
       "150.2"
      ]
     },
     "execution_count": 14,
     "metadata": {},
     "output_type": "execute_result"
    }
   ],
   "source": [
    "# 4. What is an expression made up of? What do all expressions do?\n",
    "# Expression made of different types of variables,mathematical operators (+,-,*,/,=,),values\n",
    "# Expressions needs to be evaluated and thus it gives result\n",
    "# Ex\n",
    "8*15+27+3.2"
   ]
  },
  {
   "cell_type": "code",
   "execution_count": 15,
   "id": "92614124-9bd1-4662-8ec6-d2e389286bd8",
   "metadata": {},
   "outputs": [
    {
     "data": {
      "text/plain": [
       "599.32"
      ]
     },
     "execution_count": 15,
     "metadata": {},
     "output_type": "execute_result"
    }
   ],
   "source": [
    "# 5. This assignment statements, like spam = 10. What is the difference between an expression and a statement?\n",
    "# Expression - It consists of different types of variables,mathematical operators (+,-,*,/,=,),values\n",
    "# Statement - A statement is a unit of code that has an effect, like creating a variable or displaying a value.\n",
    "# When we type a statement, the interpreter executes it, which means that it does whatever the statement says. In general, statements don’t have values.\n",
    "# Ex\n",
    "9*62+31.32+10 # Expression\n",
    "val1 = 'This is a assignment statement' # Statement"
   ]
  },
  {
   "cell_type": "code",
   "execution_count": 7,
   "id": "be4c8fac-66f5-4808-a7eb-12073b76f6a8",
   "metadata": {},
   "outputs": [],
   "source": [
    "# 6. After running the following code, what does the variable bacon contain?\n",
    "# bacon = 22\n",
    "# bacon + 1\n",
    "\n",
    "# Result = 23"
   ]
  },
  {
   "cell_type": "code",
   "execution_count": 8,
   "id": "fdfd41d2-efc7-4fa8-bfaf-5e88e0c69ffe",
   "metadata": {},
   "outputs": [],
   "source": [
    "# 7. What should the values of the following two terms be?\n",
    "\n",
    "# 'spam' + 'spamspam'  \n",
    "#Result ==> spamspamspam\n",
    "\n",
    "# 'spam' * 3           \n",
    "# Result ==> spamspamspam"
   ]
  },
  {
   "cell_type": "code",
   "execution_count": 9,
   "id": "164d0ade-d39b-4feb-b187-48f3826b2f16",
   "metadata": {},
   "outputs": [],
   "source": [
    "# 8. Why is eggs a valid variable name while 100 is invalid?\n",
    "# Egg is valid because it's not a Keyword or reserveword and it satify all the conditions of Variable name\n",
    "# 100 is invalid because Variable name shouldn't be only Number and it's not satify the conditions of Variable name"
   ]
  },
  {
   "cell_type": "code",
   "execution_count": 22,
   "id": "0fa650e9-565d-4c85-af2b-a268caa77525",
   "metadata": {},
   "outputs": [
    {
     "name": "stdout",
     "output_type": "stream",
     "text": [
      "int(5.0) to Int:  5\n",
      "float(5) to Float:  5.0\n",
      "str(test) to String:  test\n"
     ]
    }
   ],
   "source": [
    "# 9. What three functions can be used to get the integer, floating-point number, or string version of a value?\n",
    "# int(),float(),and str() functions will evaluate to the integer,floating-point number,string version of the value passed to them.\n",
    "\n",
    "# Examples:\n",
    "print('int(5.0) to Int: ',int(5.0)) # int() \n",
    "print('float(5) to Float: ',float(5)) # float() \n",
    "print('str(test) to String: ',str(\"test\")) # str() "
   ]
  },
  {
   "cell_type": "code",
   "execution_count": 11,
   "id": "20627bdb-c6fc-40cc-a7f5-232b8ea3da5e",
   "metadata": {},
   "outputs": [],
   "source": [
    "# 10. Why does this expression cause an error? How can you fix it?\n",
    "# 'I have eaten' + 99 + 'burritos'\n",
    "\n",
    "# Error occur because string data type can't be concat with Integer.\n",
    "# Solution is 99 has to converted into String as \"99\" or '99' or str(99)."
   ]
  }
 ],
 "metadata": {
  "kernelspec": {
   "display_name": "Python 3 (ipykernel)",
   "language": "python",
   "name": "python3"
  },
  "language_info": {
   "codemirror_mode": {
    "name": "ipython",
    "version": 3
   },
   "file_extension": ".py",
   "mimetype": "text/x-python",
   "name": "python",
   "nbconvert_exporter": "python",
   "pygments_lexer": "ipython3",
   "version": "3.10.6"
  }
 },
 "nbformat": 4,
 "nbformat_minor": 5
}
