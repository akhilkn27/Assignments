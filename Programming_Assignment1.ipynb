{
 "cells": [
  {
   "cell_type": "code",
   "execution_count": null,
   "id": "032aed06-bda7-4066-93a1-accb6e271b09",
   "metadata": {},
   "outputs": [],
   "source": [
    "1. Write a Python program to print \"Hello Python\"?"
   ]
  },
  {
   "cell_type": "code",
   "execution_count": 5,
   "id": "ed0dd2c4-fb74-4d14-9eee-624a5f5612f1",
   "metadata": {},
   "outputs": [
    {
     "name": "stdout",
     "output_type": "stream",
     "text": [
      "Hello Python\n"
     ]
    }
   ],
   "source": [
    "def printfunc():\n",
    "    \"\"\"Print the Hello Python string\"\"\"\n",
    "    print(\"Hello Python\")\n",
    "\n",
    "printfunc()"
   ]
  },
  {
   "cell_type": "code",
   "execution_count": null,
   "id": "672bd81e-2ecf-439a-ac08-a050d87a2e47",
   "metadata": {},
   "outputs": [],
   "source": [
    "2. Write a Python program to do arithmetical operations addition and division.?"
   ]
  },
  {
   "cell_type": "code",
   "execution_count": 13,
   "id": "e9c9f597-23ee-458a-91bd-81bd80578498",
   "metadata": {},
   "outputs": [
    {
     "name": "stdin",
     "output_type": "stream",
     "text": [
      "Enter the Number 1 1\n",
      "Enter the Number 2 23\n"
     ]
    },
    {
     "name": "stdout",
     "output_type": "stream",
     "text": [
      "\n",
      "Sum of numbers of 1.0 and 23.0 = 24.0\n",
      "Division of numbers of 1.0 and 23.0 = 0.043478260869565216\n"
     ]
    }
   ],
   "source": [
    "def baseopern():\n",
    "    inp1 = float(input(\"Enter the Number 1\"))\n",
    "    inp2 = float(input(\"Enter the Number 2\"))\n",
    "    \n",
    "    \"\"\"Sum of two numbers\"\"\"\n",
    "    s = inp1 + inp2\n",
    "    \n",
    "    \"\"\"Division of two numbers\"\"\"\n",
    "    d = inp1 / inp2\n",
    "    print()\n",
    "    \n",
    "    print(f\"Sum of numbers of {inp1} and {inp2} = {s}\")\n",
    "    print(f\"Division of numbers of {inp1} and {inp2} = {d}\")\n",
    "\n",
    "baseopern()    "
   ]
  },
  {
   "cell_type": "code",
   "execution_count": null,
   "id": "b3ebf1d5-cd1a-453c-9360-dfaff0daea4c",
   "metadata": {},
   "outputs": [],
   "source": [
    "3. Write a Python program to find the area of a triangle?"
   ]
  },
  {
   "cell_type": "code",
   "execution_count": 14,
   "id": "eb402d36-eb95-48fc-98fb-486fa3889a97",
   "metadata": {},
   "outputs": [
    {
     "name": "stdin",
     "output_type": "stream",
     "text": [
      "Enter the Length of the triangle 10\n",
      "Enter the Breadth of the triangle 5\n"
     ]
    },
    {
     "name": "stdout",
     "output_type": "stream",
     "text": [
      "Area of triangle of 10.0 and 5.0 = 25.0\n"
     ]
    }
   ],
   "source": [
    "def trianglearea():\n",
    "    \"\"\"To find a area of the triangle\"\"\"\n",
    "    leng = float(input(\"Enter the Length of the triangle\"))\n",
    "    brd  = float(input(\"Enter the Breadth of the triangle\"))\n",
    "    area = 0.5 * leng * brd\n",
    "    print(f\"Area of triangle of {leng} and {brd} = {area}\")\n",
    "\n",
    "trianglearea() "
   ]
  },
  {
   "cell_type": "code",
   "execution_count": null,
   "id": "345e9155-fe40-44d2-96ea-80f72102e167",
   "metadata": {},
   "outputs": [],
   "source": [
    "4. Write a Python program to swap two variables?"
   ]
  },
  {
   "cell_type": "code",
   "execution_count": 16,
   "id": "7e4e19e2-b945-4b9c-82c3-da90a6bbb5de",
   "metadata": {},
   "outputs": [
    {
     "name": "stdin",
     "output_type": "stream",
     "text": [
      "Enter the Number1 2\n",
      "Enter the Number2 3\n"
     ]
    },
    {
     "name": "stdout",
     "output_type": "stream",
     "text": [
      "Swapped the variables are 3.0 and 2.0 and 2.0 and 3.0\n"
     ]
    }
   ],
   "source": [
    "def swapnum():\n",
    "    inp3 = float(input(\"Enter the Number1\"))\n",
    "    inp4 = float(input(\"Enter the Number2\"))\n",
    "    \"\"\"swap two variables without third variable\"\"\"\n",
    "    inp3 = inp3 + inp4; \n",
    "    inp4 = inp3 - inp4; \n",
    "    inp3 = inp3 - inp4; \n",
    "    print(f\"Swapped the variables are {inp3} and {inp4} and {inp4} and {inp3}\")\n",
    "\n",
    "swapnum() "
   ]
  },
  {
   "cell_type": "code",
   "execution_count": null,
   "id": "5144b8d0-cb36-4c89-bf34-fd9f95f1680c",
   "metadata": {},
   "outputs": [],
   "source": [
    "5. Write a Python program to generate a random number?"
   ]
  },
  {
   "cell_type": "code",
   "execution_count": 4,
   "id": "ea9b409e-152f-4430-82cc-ee4ac7d8de69",
   "metadata": {},
   "outputs": [
    {
     "name": "stdout",
     "output_type": "stream",
     "text": [
      "938\n"
     ]
    }
   ],
   "source": [
    "import random\n",
    "\"\"\"Generate a random number\"\"\"\n",
    "print(random.randint(0,1000))"
   ]
  }
 ],
 "metadata": {
  "kernelspec": {
   "display_name": "Python 3 (ipykernel)",
   "language": "python",
   "name": "python3"
  },
  "language_info": {
   "codemirror_mode": {
    "name": "ipython",
    "version": 3
   },
   "file_extension": ".py",
   "mimetype": "text/x-python",
   "name": "python",
   "nbconvert_exporter": "python",
   "pygments_lexer": "ipython3",
   "version": "3.10.6"
  }
 },
 "nbformat": 4,
 "nbformat_minor": 5
}
