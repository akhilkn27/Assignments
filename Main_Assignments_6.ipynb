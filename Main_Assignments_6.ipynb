{
 "cells": [
  {
   "cell_type": "code",
   "execution_count": null,
   "id": "68505efa-2436-4f4f-b717-b787ffe06c55",
   "metadata": {},
   "outputs": [],
   "source": [
    "1. What are escape characters, and how do you use them?\n",
    "\n",
    "Ans: Escape characters represent characters in string values that would otherwise be difficult or impossible to type into code. \n",
    "we can use the backslash character to escape a single character or symbol\n",
    "\n",
    "example: \\t, \\n"
   ]
  },
  {
   "cell_type": "code",
   "execution_count": null,
   "id": "0fb50d63-4652-4751-9901-0898e55436eb",
   "metadata": {},
   "outputs": [],
   "source": [
    "2. What do the escape characters n and t stand for?\n",
    "\n",
    "Ans: \\n - New line and \\t  - Tab"
   ]
  },
  {
   "cell_type": "code",
   "execution_count": null,
   "id": "c0800ba2-eabc-4cae-aa90-dacd792448bc",
   "metadata": {},
   "outputs": [],
   "source": [
    "3. What is the way to include backslash characters in a string?\n",
    "\n",
    "Ans: The \\\\ escape character"
   ]
  },
  {
   "cell_type": "code",
   "execution_count": null,
   "id": "d1195379-61d9-4a9c-a1ff-977352dcbcab",
   "metadata": {},
   "outputs": [],
   "source": [
    "4.The string \"Howl's Moving Castle\" is a correct value. Why isnot the single quote character in the word Howl's not escaped a problem ?\n",
    "\n",
    "Ans: The string \"Howl's Moving Castle\" escaped the problem because it is wrapped inside double quotes. \n",
    "If it is wrapped inside single quotes, then we have to use escape character \\' to show single quote in the output"
   ]
  },
  {
   "cell_type": "code",
   "execution_count": null,
   "id": "186ae1a1-e0bd-41ce-9413-3bcf51b3307f",
   "metadata": {},
   "outputs": [],
   "source": [
    "5.How do you write a string of newlines if you donot want to use the n character?\n",
    "\n",
    "Ans: We can use Multiline string that will allow us to use newlines in string without the \\n escape character\n",
    "\n",
    "# Example:\n",
    "a = '''This is assignment\n",
    "on Basic Python'''\n",
    "print(a)"
   ]
  },
  {
   "cell_type": "code",
   "execution_count": null,
   "id": "d74f78da-ba83-4659-9ed2-a1ee52512a67",
   "metadata": {},
   "outputs": [],
   "source": [
    "6.What are the values of the given expressions ?\n",
    "'Hello, world!'[1]\n",
    "'Hello, world!'[0:5]\n",
    "'Hello, world!'[:5]\n",
    "'Hello, world!'[3:]"
   ]
  },
  {
   "cell_type": "code",
   "execution_count": 11,
   "id": "94bbcec0-2c3d-4aa2-ad6c-f679759a6b44",
   "metadata": {},
   "outputs": [
    {
     "data": {
      "text/plain": [
       "'e'"
      ]
     },
     "execution_count": 11,
     "metadata": {},
     "output_type": "execute_result"
    }
   ],
   "source": [
    "'Hello, world!'[1]"
   ]
  },
  {
   "cell_type": "code",
   "execution_count": 8,
   "id": "51a4961c-fb83-4ec9-9c19-585d35fb8984",
   "metadata": {},
   "outputs": [
    {
     "data": {
      "text/plain": [
       "'Hello'"
      ]
     },
     "execution_count": 8,
     "metadata": {},
     "output_type": "execute_result"
    }
   ],
   "source": [
    "'Hello, world!'[0:5]"
   ]
  },
  {
   "cell_type": "code",
   "execution_count": 9,
   "id": "ae975e4f-b60f-4d6f-97b0-42eb590ca47c",
   "metadata": {},
   "outputs": [
    {
     "data": {
      "text/plain": [
       "'Hello'"
      ]
     },
     "execution_count": 9,
     "metadata": {},
     "output_type": "execute_result"
    }
   ],
   "source": [
    "'Hello, world!'[:5]"
   ]
  },
  {
   "cell_type": "code",
   "execution_count": 10,
   "id": "3660e089-6a73-4bea-831e-89d9053fa0d4",
   "metadata": {},
   "outputs": [
    {
     "data": {
      "text/plain": [
       "'lo, world!'"
      ]
     },
     "execution_count": 10,
     "metadata": {},
     "output_type": "execute_result"
    }
   ],
   "source": [
    "'Hello, world!'[3:]"
   ]
  },
  {
   "cell_type": "code",
   "execution_count": null,
   "id": "7fb34b23-28f0-4d75-b296-42eb2a411615",
   "metadata": {},
   "outputs": [],
   "source": [
    "7.What are the values of the following expressions ?\n",
    "'Hello'.upper()\n",
    "'Hello'.upper().isupper()\n",
    "'Hello'.upper().lower()"
   ]
  },
  {
   "cell_type": "code",
   "execution_count": 12,
   "id": "64a8bd17-1750-44ff-877b-9b039b46cd8a",
   "metadata": {},
   "outputs": [
    {
     "data": {
      "text/plain": [
       "'HELLO'"
      ]
     },
     "execution_count": 12,
     "metadata": {},
     "output_type": "execute_result"
    }
   ],
   "source": [
    "'Hello'.upper()"
   ]
  },
  {
   "cell_type": "code",
   "execution_count": 13,
   "id": "1e4859ed-104b-4ba5-ad5c-6d330efa9d3d",
   "metadata": {},
   "outputs": [
    {
     "data": {
      "text/plain": [
       "True"
      ]
     },
     "execution_count": 13,
     "metadata": {},
     "output_type": "execute_result"
    }
   ],
   "source": [
    "'Hello'.upper().isupper()"
   ]
  },
  {
   "cell_type": "code",
   "execution_count": 14,
   "id": "e3e2df32-b19f-4cab-b907-25afc7a4db34",
   "metadata": {},
   "outputs": [
    {
     "data": {
      "text/plain": [
       "'hello'"
      ]
     },
     "execution_count": 14,
     "metadata": {},
     "output_type": "execute_result"
    }
   ],
   "source": [
    "'Hello'.upper().lower()"
   ]
  },
  {
   "cell_type": "code",
   "execution_count": null,
   "id": "7fc976a2-6cc4-4d2e-a5df-e5637190659c",
   "metadata": {},
   "outputs": [],
   "source": [
    "8.What are the values of the following expressions ?\n",
    "\n",
    "'Remember, remember, the fifith of July.'.split()\n",
    "'-'.join('There can only one'.split())"
   ]
  },
  {
   "cell_type": "code",
   "execution_count": 18,
   "id": "00c57489-ce8a-4ca3-90a5-a35f8bd88f64",
   "metadata": {},
   "outputs": [
    {
     "data": {
      "text/plain": [
       "['Remember,', 'remember,', 'the', 'fifith', 'of', 'July.']"
      ]
     },
     "execution_count": 18,
     "metadata": {},
     "output_type": "execute_result"
    }
   ],
   "source": [
    "'Remember, remember, the fifith of July.'.split()"
   ]
  },
  {
   "cell_type": "code",
   "execution_count": 20,
   "id": "50f15e2e-18d0-461d-97b3-b85f9af835f8",
   "metadata": {},
   "outputs": [
    {
     "data": {
      "text/plain": [
       "'There-can-only-one'"
      ]
     },
     "execution_count": 20,
     "metadata": {},
     "output_type": "execute_result"
    }
   ],
   "source": [
    "'-'.join('There can only one'.split())"
   ]
  },
  {
   "cell_type": "code",
   "execution_count": null,
   "id": "203e8289-4634-49d9-aee9-7dd62a3d47d6",
   "metadata": {},
   "outputs": [],
   "source": [
    "9. What are the methods for right-justifying, left-justifying, and centering a string?\n",
    "\n",
    "Ans: rjust(),ljust(),center()"
   ]
  },
  {
   "cell_type": "code",
   "execution_count": null,
   "id": "2fbb7235-74be-481b-86f6-75096f67cc62",
   "metadata": {},
   "outputs": [],
   "source": [
    "10.What is the best way to remove whitespace characters from the start or end ?\n",
    "\n",
    "Ans: lstrip() for removing spaces from left ends and rstrip() for removing spaces from right ends"
   ]
  }
 ],
 "metadata": {
  "kernelspec": {
   "display_name": "Python 3 (ipykernel)",
   "language": "python",
   "name": "python3"
  },
  "language_info": {
   "codemirror_mode": {
    "name": "ipython",
    "version": 3
   },
   "file_extension": ".py",
   "mimetype": "text/x-python",
   "name": "python",
   "nbconvert_exporter": "python",
   "pygments_lexer": "ipython3",
   "version": "3.10.6"
  }
 },
 "nbformat": 4,
 "nbformat_minor": 5
}
