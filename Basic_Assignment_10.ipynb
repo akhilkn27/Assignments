{
 "cells": [
  {
   "cell_type": "code",
   "execution_count": 1,
   "id": "74632242-f0cf-4d95-934a-e1a389b1f495",
   "metadata": {},
   "outputs": [],
   "source": [
    "#1. How do you distinguish between shutil.copy() and shutil.copytree()?"
   ]
  },
  {
   "cell_type": "code",
   "execution_count": null,
   "id": "478d39a1-4f94-484d-ac27-9c43efa28307",
   "metadata": {},
   "outputs": [],
   "source": [
    "shutil.copy() method is used to copy the contents of a file from one file to another file/folder, it primary takes two arguments src,dest, src represents the file to be copied where as destination refers to the file/folder to where the src data should be copied, if dest is a folder name the src with exact name will be copied to the dest folder, if its a file then the contents of src will be copied to dest where dest retains it name.\n",
    "\n",
    "shutil.copytree() function is used to copy the entire contents of a folder to other folder. it also takes two arguments src & dest, it copies all the content recursively and stores it in dest. the important catch here is dest must not exist prior to this and it will be created during the copy operation. Permissions and times of directories are copied with shutil.copystat() and individual files are copied using shutil.copy2() by default which can be modified using copy_function attribute."
   ]
  },
  {
   "cell_type": "code",
   "execution_count": null,
   "id": "9436cda5-d8af-4c00-9300-16ed57b2e55c",
   "metadata": {},
   "outputs": [],
   "source": [
    "# 2. What function is used to rename files??"
   ]
  },
  {
   "cell_type": "code",
   "execution_count": null,
   "id": "77a1e235-d426-44de-bd81-74692947869a",
   "metadata": {},
   "outputs": [],
   "source": [
    "os.rename() function is used to rename files or directories using a python program, this function takes two arguments src and dest, src represents the name file/directory which we want to rename, whereas dest represents the new name of the file/directory."
   ]
  },
  {
   "cell_type": "code",
   "execution_count": null,
   "id": "22de964e-7a8b-4d8a-9093-013825ceb648",
   "metadata": {},
   "outputs": [],
   "source": [
    "# 3. What is the difference between the delete functions in the send2trash and shutil modules?"
   ]
  },
  {
   "cell_type": "code",
   "execution_count": null,
   "id": "0ff6ad15-571e-4e71-b33d-8728559cbea8",
   "metadata": {},
   "outputs": [],
   "source": [
    "Shutil module provides a funciton called as shutil.rmtree() which deletes a directory and all its contents. The other functions with similar functionality are os.remove() -> removes a file, os.rmdir() removes a empty directory. The problem with these functions is once a file is deleted. it will be lost permanently, if a file is deleted accidentally using these methods there is no way we can recover the deleted file\n",
    "\n",
    "Where as send2trash module provides a function called send2trash.send2trash() to delete a file/directory. these methods moves the files/directories to trash folder instead of permanently deleting them. hence if a file/folder is deleted accidentally it can be still recovered from trash folder, if is deleted using the send2trash.send2trash() function. send2trash is not included with python standard libary like os & shutil modules. it needs to be installed explicitly using the command !pip install send2trash"
   ]
  },
  {
   "cell_type": "code",
   "execution_count": null,
   "id": "c451b2e9-40ba-4a52-b5ed-337ab976dfac",
   "metadata": {},
   "outputs": [],
   "source": [
    "# 4.ZipFile objects have a close() method just like File objects’ close() method. What ZipFile method is equivalent to File objects’ open() method?"
   ]
  },
  {
   "cell_type": "code",
   "execution_count": null,
   "id": "d85e0d53-35b4-46c5-9527-9e1fadd1cba8",
   "metadata": {},
   "outputs": [],
   "source": [
    "ZipFile Module provides a method called as zipfile.ZipFile() to read and write to zipFiles. it takes arugments lile filename and mode etc zipfile.ZipFile('filename', mode = 'r')"
   ]
  },
  {
   "cell_type": "code",
   "execution_count": null,
   "id": "341f22a2-b329-4c6c-b70c-9df670ce4916",
   "metadata": {},
   "outputs": [],
   "source": [
    "# 5. Create a programme that searches a folder tree for files with a certain file extension (such as .pdf or .jpg). Copy these files from whatever location they are in to a new folder"
   ]
  },
  {
   "cell_type": "code",
   "execution_count": 2,
   "id": "11814e41-f960-4154-8a09-6cca6022ed7b",
   "metadata": {},
   "outputs": [],
   "source": [
    "import os\n",
    "import shutil\n",
    "\n",
    "def search_and_copy(source,destination,extensions):\n",
    "    source = os.path.abspath(source)\n",
    "    destination = os.path.abspath(destination)\n",
    "    for foldername, subfolder, filenames in os.walk(source):\n",
    "        print(f'Folder Name ➞ {foldername}',end='\\n\\n')\n",
    "        print(f'Sub Folders ➞ {subfolder}',end='\\n\\n')\n",
    "        print(f'Files ➞ {filenames}',end='\\n\\n')\n",
    "        for filename in filenames:\n",
    "            fileName,extension = os.path.splitext(filename)\n",
    "            if extension in extensions:\n",
    "                targetFile = foldername+os.path.sep+fileName+extension\n",
    "                shutil.copy(targetFile, destination)\n",
    "        print(f'Files copied successfully from {source} to {destination}')\n",
    "    \n",
    "extensions = ['.pdf','.jpg','.ipynb']\n",
    "source = 'Dummy Source'\n",
    "destination = 'Dummy Destination'\n",
    "search_and_copy(source, destination, extensions)\n"
   ]
  },
  {
   "cell_type": "code",
   "execution_count": null,
   "id": "96d8a153-5390-4c83-8c45-7d5760567c72",
   "metadata": {},
   "outputs": [],
   "source": []
  },
  {
   "cell_type": "code",
   "execution_count": null,
   "id": "ed06c3b0-3148-46c4-945a-9d6ccf20ffbc",
   "metadata": {},
   "outputs": [],
   "source": []
  }
 ],
 "metadata": {
  "kernelspec": {
   "display_name": "Python 3 (ipykernel)",
   "language": "python",
   "name": "python3"
  },
  "language_info": {
   "codemirror_mode": {
    "name": "ipython",
    "version": 3
   },
   "file_extension": ".py",
   "mimetype": "text/x-python",
   "name": "python",
   "nbconvert_exporter": "python",
   "pygments_lexer": "ipython3",
   "version": "3.10.6"
  }
 },
 "nbformat": 4,
 "nbformat_minor": 5
}
